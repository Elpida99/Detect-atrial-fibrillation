{
  "nbformat": 4,
  "nbformat_minor": 0,
  "metadata": {
    "colab": {
      "name": "Detect_Atrial_fibrillation.ipynb",
      "provenance": [],
      "collapsed_sections": [],
      "toc_visible": true,
      "include_colab_link": true
    },
    "kernelspec": {
      "name": "python3",
      "display_name": "Python 3"
    },
    "language_info": {
      "name": "python"
    },
    "accelerator": "GPU"
  },
  "cells": [
    {
      "cell_type": "markdown",
      "metadata": {
        "id": "view-in-github",
        "colab_type": "text"
      },
      "source": [
        "<a href=\"https://colab.research.google.com/github/Elpida99/Detect-atrial-fibrillation/blob/main/Detect_Atrial_fibrillation.ipynb\" target=\"_parent\"><img src=\"https://colab.research.google.com/assets/colab-badge.svg\" alt=\"Open In Colab\"/></a>"
      ]
    },
    {
      "cell_type": "code",
      "metadata": {
        "colab": {
          "base_uri": "https://localhost:8080/"
        },
        "id": "gjKB9yUSSoDp",
        "outputId": "a4a45adf-13a9-4f4c-d3d9-498f0ec18b73"
      },
      "source": [
        "from google.colab import drive\n",
        "drive.mount('/content/drive')"
      ],
      "execution_count": null,
      "outputs": [
        {
          "output_type": "stream",
          "text": [
            "Mounted at /content/drive\n"
          ],
          "name": "stdout"
        }
      ]
    },
    {
      "cell_type": "code",
      "metadata": {
        "colab": {
          "base_uri": "https://localhost:8080/"
        },
        "id": "D80PQd-fTLzJ",
        "outputId": "7677dec0-f4c1-411d-8f59-ab048f9c81c2"
      },
      "source": [
        "%cd /content/drive/My Drive/Thesis_Elpida_Makri/Train_model/Detect_Atrial_Fibrillation"
      ],
      "execution_count": null,
      "outputs": [
        {
          "output_type": "stream",
          "text": [
            "/content/drive/My Drive/Thesis_Elpida_Makri/Train_model/Detect_Atrial_Fibrillation\n"
          ],
          "name": "stdout"
        }
      ]
    },
    {
      "cell_type": "code",
      "metadata": {
        "colab": {
          "base_uri": "https://localhost:8080/"
        },
        "id": "TmMO5oVVTnSi",
        "outputId": "162f1249-6f26-47b3-d457-3f02b081d5b1"
      },
      "source": [
        "! ls \n",
        "! ls 1_class_data\n",
        "! ls 1_class_data/dataset_3"
      ],
      "execution_count": null,
      "outputs": [
        {
          "output_type": "stream",
          "text": [
            "1_class_data  models  my_datasets.py  my_train.py\n",
            "af_dataset_ann.csv  dataset_3  X_test.npy  X_train.npy\ty_test.npy  y_train.npy\n",
            "dataset3_annotations.csv  dataset3_tracings.hdf5\n"
          ],
          "name": "stdout"
        }
      ]
    },
    {
      "cell_type": "code",
      "metadata": {
        "id": "q5V3-ElRTOHB"
      },
      "source": [
        "import pandas as pd     \n",
        "import numpy as np\n",
        "import h5py\n",
        "from sklearn.model_selection import train_test_split\n",
        "from sklearn.metrics import precision_score, recall_score, f1_score, accuracy_score"
      ],
      "execution_count": null,
      "outputs": []
    },
    {
      "cell_type": "code",
      "metadata": {
        "id": "HTeaCYJeWFT6"
      },
      "source": [
        "df_data = pd.read_csv('./1_class_data/dataset_3/dataset3_annotations.csv')\n",
        "df_af = df_data['AF']\n",
        "df_af.to_csv('./1_class_data/af_dataset_ann.csv',index=False)"
      ],
      "execution_count": null,
      "outputs": []
    },
    {
      "cell_type": "markdown",
      "metadata": {
        "id": "X1ZhJms0XDBi"
      },
      "source": [
        "#Load dataset and split"
      ]
    },
    {
      "cell_type": "code",
      "metadata": {
        "id": "f5KtZk7eTtWN"
      },
      "source": [
        "def load_dataset():\n",
        "\n",
        "  data = pd.read_csv('./1_class_data/af_dataset_ann.csv')\n",
        "  y = np.asarray(data)\n",
        "  print(y.shape)\n",
        "\n",
        "  with h5py.File('./1_class_data/dataset_3/dataset3_tracings.hdf5', 'r') as hdf:\n",
        "    x = np.asarray(hdf['tracings']) \n",
        "  hdf.close()\n",
        "\n",
        "  print(x.shape)\n",
        "\n",
        "  X_train, X_test, y_train, y_test = train_test_split(x, y, train_size=0.6, shuffle=False)\n",
        "\n",
        "  return X_train, X_test, y_train, y_test\n"
      ],
      "execution_count": null,
      "outputs": []
    },
    {
      "cell_type": "code",
      "metadata": {
        "colab": {
          "base_uri": "https://localhost:8080/"
        },
        "id": "L4VfKvN5VaHP",
        "outputId": "b3d793b7-23a4-4c85-cea0-fa1174a9bc02"
      },
      "source": [
        "X_train, X_test, y_train, y_test = load_dataset()\n",
        "\n",
        "print(\"X_train: \", X_train.shape)\n",
        "print(\"y_train: \", y_train.shape)\n",
        "print(\"X_test: \", X_test.shape)\n",
        "print(\"y_test: \", y_test.shape)"
      ],
      "execution_count": null,
      "outputs": [
        {
          "output_type": "stream",
          "text": [
            "(5170, 1)\n",
            "(5170, 4096, 12)\n",
            "X_train:  (3102, 4096, 12)\n",
            "y_train:  (3102, 1)\n",
            "X_test:  (2068, 4096, 12)\n",
            "y_test:  (2068, 1)\n"
          ],
          "name": "stdout"
        }
      ]
    },
    {
      "cell_type": "code",
      "metadata": {
        "id": "K6LH0WYoXccd"
      },
      "source": [
        "# save arrays\n",
        "np.save('./1_class_data/X_train.npy',X_train)\n",
        "np.save('./1_class_data/y_train.npy',y_train)\n",
        "np.save('./1_class_data/X_test.npy',X_test)\n",
        "np.save('./1_class_data/y_test.npy',y_test)"
      ],
      "execution_count": null,
      "outputs": []
    },
    {
      "cell_type": "markdown",
      "metadata": {
        "id": "KpZzk4mjW-L1"
      },
      "source": [
        "#Train model"
      ]
    },
    {
      "cell_type": "code",
      "metadata": {
        "colab": {
          "base_uri": "https://localhost:8080/"
        },
        "id": "y0sI0mDZfgpp",
        "outputId": "6d01134b-3919-4d34-c644-8d1492f9139e"
      },
      "source": [
        "!python my_train.py ./1_class_data/X_train.npy ./1_class_data/y_train.npy"
      ],
      "execution_count": null,
      "outputs": [
        {
          "output_type": "stream",
          "text": [
            "2021-06-03 16:14:53.683330: I tensorflow/stream_executor/platform/default/dso_loader.cc:53] Successfully opened dynamic library libcudart.so.11.0\n",
            "<class 'numpy.ndarray'>\n",
            "<class 'numpy.ndarray'>\n",
            "2021-06-03 16:14:56.317191: I tensorflow/stream_executor/platform/default/dso_loader.cc:53] Successfully opened dynamic library libcuda.so.1\n",
            "2021-06-03 16:14:56.385574: I tensorflow/stream_executor/cuda/cuda_gpu_executor.cc:937] successful NUMA node read from SysFS had negative value (-1), but there must be at least one NUMA node, so returning NUMA node zero\n",
            "2021-06-03 16:14:56.386196: I tensorflow/core/common_runtime/gpu/gpu_device.cc:1733] Found device 0 with properties: \n",
            "pciBusID: 0000:00:04.0 name: Tesla T4 computeCapability: 7.5\n",
            "coreClock: 1.59GHz coreCount: 40 deviceMemorySize: 14.75GiB deviceMemoryBandwidth: 298.08GiB/s\n",
            "2021-06-03 16:14:56.386236: I tensorflow/stream_executor/platform/default/dso_loader.cc:53] Successfully opened dynamic library libcudart.so.11.0\n",
            "2021-06-03 16:14:56.518822: I tensorflow/stream_executor/platform/default/dso_loader.cc:53] Successfully opened dynamic library libcublas.so.11\n",
            "2021-06-03 16:14:56.518912: I tensorflow/stream_executor/platform/default/dso_loader.cc:53] Successfully opened dynamic library libcublasLt.so.11\n",
            "2021-06-03 16:14:56.651212: I tensorflow/stream_executor/platform/default/dso_loader.cc:53] Successfully opened dynamic library libcufft.so.10\n",
            "2021-06-03 16:14:56.702425: I tensorflow/stream_executor/platform/default/dso_loader.cc:53] Successfully opened dynamic library libcurand.so.10\n",
            "2021-06-03 16:14:56.957262: I tensorflow/stream_executor/platform/default/dso_loader.cc:53] Successfully opened dynamic library libcusolver.so.10\n",
            "2021-06-03 16:14:57.010488: I tensorflow/stream_executor/platform/default/dso_loader.cc:53] Successfully opened dynamic library libcusparse.so.11\n",
            "2021-06-03 16:14:57.014886: I tensorflow/stream_executor/platform/default/dso_loader.cc:53] Successfully opened dynamic library libcudnn.so.8\n",
            "2021-06-03 16:14:57.015020: I tensorflow/stream_executor/cuda/cuda_gpu_executor.cc:937] successful NUMA node read from SysFS had negative value (-1), but there must be at least one NUMA node, so returning NUMA node zero\n",
            "2021-06-03 16:14:57.015676: I tensorflow/stream_executor/cuda/cuda_gpu_executor.cc:937] successful NUMA node read from SysFS had negative value (-1), but there must be at least one NUMA node, so returning NUMA node zero\n",
            "2021-06-03 16:14:57.018992: I tensorflow/core/common_runtime/gpu/gpu_device.cc:1871] Adding visible gpu devices: 0\n",
            "2021-06-03 16:14:57.019577: I tensorflow/stream_executor/cuda/cuda_gpu_executor.cc:937] successful NUMA node read from SysFS had negative value (-1), but there must be at least one NUMA node, so returning NUMA node zero\n",
            "2021-06-03 16:14:57.020163: I tensorflow/core/common_runtime/gpu/gpu_device.cc:1733] Found device 0 with properties: \n",
            "pciBusID: 0000:00:04.0 name: Tesla T4 computeCapability: 7.5\n",
            "coreClock: 1.59GHz coreCount: 40 deviceMemorySize: 14.75GiB deviceMemoryBandwidth: 298.08GiB/s\n",
            "2021-06-03 16:14:57.020248: I tensorflow/stream_executor/cuda/cuda_gpu_executor.cc:937] successful NUMA node read from SysFS had negative value (-1), but there must be at least one NUMA node, so returning NUMA node zero\n",
            "2021-06-03 16:14:57.020802: I tensorflow/stream_executor/cuda/cuda_gpu_executor.cc:937] successful NUMA node read from SysFS had negative value (-1), but there must be at least one NUMA node, so returning NUMA node zero\n",
            "2021-06-03 16:14:57.021322: I tensorflow/core/common_runtime/gpu/gpu_device.cc:1871] Adding visible gpu devices: 0\n",
            "2021-06-03 16:14:57.024078: I tensorflow/stream_executor/platform/default/dso_loader.cc:53] Successfully opened dynamic library libcudart.so.11.0\n",
            "2021-06-03 16:15:01.380965: I tensorflow/core/common_runtime/gpu/gpu_device.cc:1258] Device interconnect StreamExecutor with strength 1 edge matrix:\n",
            "2021-06-03 16:15:01.381014: I tensorflow/core/common_runtime/gpu/gpu_device.cc:1264]      0 \n",
            "2021-06-03 16:15:01.381031: I tensorflow/core/common_runtime/gpu/gpu_device.cc:1277] 0:   N \n",
            "2021-06-03 16:15:01.381226: I tensorflow/stream_executor/cuda/cuda_gpu_executor.cc:937] successful NUMA node read from SysFS had negative value (-1), but there must be at least one NUMA node, so returning NUMA node zero\n",
            "2021-06-03 16:15:01.381805: I tensorflow/stream_executor/cuda/cuda_gpu_executor.cc:937] successful NUMA node read from SysFS had negative value (-1), but there must be at least one NUMA node, so returning NUMA node zero\n",
            "2021-06-03 16:15:01.382452: I tensorflow/stream_executor/cuda/cuda_gpu_executor.cc:937] successful NUMA node read from SysFS had negative value (-1), but there must be at least one NUMA node, so returning NUMA node zero\n",
            "2021-06-03 16:15:01.382973: W tensorflow/core/common_runtime/gpu/gpu_bfc_allocator.cc:39] Overriding allow_growth setting because the TF_FORCE_GPU_ALLOW_GROWTH environment variable is set. Original config value was 0.\n",
            "2021-06-03 16:15:01.383028: I tensorflow/core/common_runtime/gpu/gpu_device.cc:1418] Created TensorFlow device (/job:localhost/replica:0/task:0/device:GPU:0 with 13837 MB memory) -> physical GPU (device: 0, name: Tesla T4, pci bus id: 0000:00:04.0, compute capability: 7.5)\n",
            "2021-06-03 16:15:01.728972: I tensorflow/core/profiler/lib/profiler_session.cc:126] Profiler session initializing.\n",
            "2021-06-03 16:15:01.729010: I tensorflow/core/profiler/lib/profiler_session.cc:141] Profiler session started.\n",
            "2021-06-03 16:15:01.729255: I tensorflow/core/profiler/internal/gpu/cupti_tracer.cc:1611] Profiler found 1 GPUs\n",
            "2021-06-03 16:15:01.772916: I tensorflow/stream_executor/platform/default/dso_loader.cc:53] Successfully opened dynamic library libcupti.so.11.0\n",
            "2021-06-03 16:15:01.933595: I tensorflow/core/profiler/lib/profiler_session.cc:159] Profiler session tear down.\n",
            "2021-06-03 16:15:01.933874: I tensorflow/core/profiler/internal/gpu/cupti_tracer.cc:1743] CUPTI activity buffer flushed\n",
            "/usr/local/lib/python3.7/dist-packages/tensorflow/python/keras/utils/generic_utils.py:497: CustomMaskWarning: Custom mask layers require a config and must override get_config. When loading, the custom mask layer must be passed to the custom_objects argument.\n",
            "  category=CustomMaskWarning)\n",
            "2021-06-03 16:15:02.174943: I tensorflow/compiler/mlir/mlir_graph_optimization_pass.cc:176] None of the MLIR Optimization Passes are enabled (registered 2)\n",
            "2021-06-03 16:15:02.175353: I tensorflow/core/platform/profile_utils/cpu_utils.cc:114] CPU Frequency: 2199995000 Hz\n",
            "Epoch 1/10\n",
            "2021-06-03 16:15:04.568552: I tensorflow/stream_executor/platform/default/dso_loader.cc:53] Successfully opened dynamic library libcudnn.so.8\n",
            "2021-06-03 16:15:06.823408: I tensorflow/stream_executor/cuda/cuda_dnn.cc:359] Loaded cuDNN version 8004\n",
            "2021-06-03 16:15:31.076532: I tensorflow/stream_executor/platform/default/dso_loader.cc:53] Successfully opened dynamic library libcublas.so.11\n",
            "2021-06-03 16:15:33.604743: I tensorflow/stream_executor/platform/default/dso_loader.cc:53] Successfully opened dynamic library libcublasLt.so.11\n",
            " 1/48 [..............................] - ETA: 27:29 - loss: 0.56532021-06-03 16:15:37.430655: I tensorflow/core/profiler/lib/profiler_session.cc:126] Profiler session initializing.\n",
            "2021-06-03 16:15:37.430696: I tensorflow/core/profiler/lib/profiler_session.cc:141] Profiler session started.\n",
            " 2/48 [>.............................] - ETA: 37s - loss: 0.2938  2021-06-03 16:15:38.188490: I tensorflow/core/profiler/lib/profiler_session.cc:66] Profiler session collecting data.\n",
            "2021-06-03 16:15:38.189223: I tensorflow/core/profiler/internal/gpu/cupti_tracer.cc:1743] CUPTI activity buffer flushed\n",
            "2021-06-03 16:15:38.362592: I tensorflow/core/profiler/internal/gpu/cupti_collector.cc:673]  GpuTracer has collected 986 callback api events and 984 activity events. \n",
            "2021-06-03 16:15:38.380178: I tensorflow/core/profiler/lib/profiler_session.cc:159] Profiler session tear down.\n",
            "2021-06-03 16:15:38.423916: I tensorflow/core/profiler/rpc/client/save_profile.cc:137] Creating directory: ./logs/train/plugins/profile/2021_06_03_16_15_38\n",
            "2021-06-03 16:15:38.450648: I tensorflow/core/profiler/rpc/client/save_profile.cc:143] Dumped gzipped tool data for trace.json.gz to ./logs/train/plugins/profile/2021_06_03_16_15_38/183db1bb2bfd.trace.json.gz\n",
            "2021-06-03 16:15:38.499551: I tensorflow/core/profiler/rpc/client/save_profile.cc:137] Creating directory: ./logs/train/plugins/profile/2021_06_03_16_15_38\n",
            "2021-06-03 16:15:38.508432: I tensorflow/core/profiler/rpc/client/save_profile.cc:143] Dumped gzipped tool data for memory_profile.json.gz to ./logs/train/plugins/profile/2021_06_03_16_15_38/183db1bb2bfd.memory_profile.json.gz\n",
            "2021-06-03 16:15:38.565710: I tensorflow/core/profiler/rpc/client/capture_profile.cc:251] Creating directory: ./logs/train/plugins/profile/2021_06_03_16_15_38Dumped tool data for xplane.pb to ./logs/train/plugins/profile/2021_06_03_16_15_38/183db1bb2bfd.xplane.pb\n",
            "Dumped tool data for overview_page.pb to ./logs/train/plugins/profile/2021_06_03_16_15_38/183db1bb2bfd.overview_page.pb\n",
            "Dumped tool data for input_pipeline.pb to ./logs/train/plugins/profile/2021_06_03_16_15_38/183db1bb2bfd.input_pipeline.pb\n",
            "Dumped tool data for tensorflow_stats.pb to ./logs/train/plugins/profile/2021_06_03_16_15_38/183db1bb2bfd.tensorflow_stats.pb\n",
            "Dumped tool data for kernel_stats.pb to ./logs/train/plugins/profile/2021_06_03_16_15_38/183db1bb2bfd.kernel_stats.pb\n",
            "\n",
            "48/48 [==============================] - 49s 304ms/step - loss: 0.2188 - val_loss: 0.2629\n",
            "Epoch 2/10\n",
            "48/48 [==============================] - 12s 243ms/step - loss: 0.1616 - val_loss: 0.2745\n",
            "Epoch 3/10\n",
            "48/48 [==============================] - 12s 247ms/step - loss: 0.1359 - val_loss: 0.1247\n",
            "Epoch 4/10\n",
            "48/48 [==============================] - 12s 247ms/step - loss: 0.1209 - val_loss: 0.0943\n",
            "Epoch 5/10\n",
            "48/48 [==============================] - 12s 248ms/step - loss: 0.0798 - val_loss: 0.1078\n",
            "Epoch 6/10\n",
            "48/48 [==============================] - 12s 249ms/step - loss: 0.0476 - val_loss: 0.1256\n",
            "Epoch 7/10\n",
            "48/48 [==============================] - 12s 251ms/step - loss: 0.0363 - val_loss: 0.1243\n",
            "Epoch 8/10\n",
            "48/48 [==============================] - 12s 253ms/step - loss: 0.0187 - val_loss: 0.1129\n",
            "Epoch 9/10\n",
            "48/48 [==============================] - 12s 255ms/step - loss: 0.0031 - val_loss: 0.1456\n",
            "Epoch 10/10\n",
            "48/48 [==============================] - 12s 255ms/step - loss: 0.0011 - val_loss: 0.1560\n"
          ],
          "name": "stdout"
        }
      ]
    },
    {
      "cell_type": "markdown",
      "metadata": {
        "id": "ZYrj9IaEq9iD"
      },
      "source": [
        "# Predict and Evaluate"
      ]
    },
    {
      "cell_type": "code",
      "metadata": {
        "colab": {
          "base_uri": "https://localhost:8080/"
        },
        "id": "eas5l7XDq9R9",
        "outputId": "343555a6-7172-463e-aa66-be9085ec868d"
      },
      "source": [
        "! python my_predict.py ./models_1_class/final_model.hdf5 ./1_class_data/X_test.npy ./1_class_data/y_test.npy --output_file ./predictions/1_class_prediction.npy"
      ],
      "execution_count": null,
      "outputs": [
        {
          "output_type": "stream",
          "text": [
            "2021-06-03 16:45:17.155841: I tensorflow/stream_executor/platform/default/dso_loader.cc:53] Successfully opened dynamic library libcudart.so.11.0\n",
            "./models_1_class/final_model.hdf5\n",
            "2021-06-03 16:45:19.117164: I tensorflow/stream_executor/platform/default/dso_loader.cc:53] Successfully opened dynamic library libcuda.so.1\n",
            "2021-06-03 16:45:19.146730: I tensorflow/stream_executor/cuda/cuda_gpu_executor.cc:937] successful NUMA node read from SysFS had negative value (-1), but there must be at least one NUMA node, so returning NUMA node zero\n",
            "2021-06-03 16:45:19.147323: I tensorflow/core/common_runtime/gpu/gpu_device.cc:1733] Found device 0 with properties: \n",
            "pciBusID: 0000:00:04.0 name: Tesla T4 computeCapability: 7.5\n",
            "coreClock: 1.59GHz coreCount: 40 deviceMemorySize: 14.75GiB deviceMemoryBandwidth: 298.08GiB/s\n",
            "2021-06-03 16:45:19.147367: I tensorflow/stream_executor/platform/default/dso_loader.cc:53] Successfully opened dynamic library libcudart.so.11.0\n",
            "2021-06-03 16:45:19.149956: I tensorflow/stream_executor/platform/default/dso_loader.cc:53] Successfully opened dynamic library libcublas.so.11\n",
            "2021-06-03 16:45:19.150035: I tensorflow/stream_executor/platform/default/dso_loader.cc:53] Successfully opened dynamic library libcublasLt.so.11\n",
            "2021-06-03 16:45:19.151591: I tensorflow/stream_executor/platform/default/dso_loader.cc:53] Successfully opened dynamic library libcufft.so.10\n",
            "2021-06-03 16:45:19.151927: I tensorflow/stream_executor/platform/default/dso_loader.cc:53] Successfully opened dynamic library libcurand.so.10\n",
            "2021-06-03 16:45:19.153659: I tensorflow/stream_executor/platform/default/dso_loader.cc:53] Successfully opened dynamic library libcusolver.so.10\n",
            "2021-06-03 16:45:19.154251: I tensorflow/stream_executor/platform/default/dso_loader.cc:53] Successfully opened dynamic library libcusparse.so.11\n",
            "2021-06-03 16:45:19.154431: I tensorflow/stream_executor/platform/default/dso_loader.cc:53] Successfully opened dynamic library libcudnn.so.8\n",
            "2021-06-03 16:45:19.154530: I tensorflow/stream_executor/cuda/cuda_gpu_executor.cc:937] successful NUMA node read from SysFS had negative value (-1), but there must be at least one NUMA node, so returning NUMA node zero\n",
            "2021-06-03 16:45:19.155116: I tensorflow/stream_executor/cuda/cuda_gpu_executor.cc:937] successful NUMA node read from SysFS had negative value (-1), but there must be at least one NUMA node, so returning NUMA node zero\n",
            "2021-06-03 16:45:19.155623: I tensorflow/core/common_runtime/gpu/gpu_device.cc:1871] Adding visible gpu devices: 0\n",
            "2021-06-03 16:45:19.156131: I tensorflow/stream_executor/cuda/cuda_gpu_executor.cc:937] successful NUMA node read from SysFS had negative value (-1), but there must be at least one NUMA node, so returning NUMA node zero\n",
            "2021-06-03 16:45:19.156654: I tensorflow/core/common_runtime/gpu/gpu_device.cc:1733] Found device 0 with properties: \n",
            "pciBusID: 0000:00:04.0 name: Tesla T4 computeCapability: 7.5\n",
            "coreClock: 1.59GHz coreCount: 40 deviceMemorySize: 14.75GiB deviceMemoryBandwidth: 298.08GiB/s\n",
            "2021-06-03 16:45:19.156737: I tensorflow/stream_executor/cuda/cuda_gpu_executor.cc:937] successful NUMA node read from SysFS had negative value (-1), but there must be at least one NUMA node, so returning NUMA node zero\n",
            "2021-06-03 16:45:19.157344: I tensorflow/stream_executor/cuda/cuda_gpu_executor.cc:937] successful NUMA node read from SysFS had negative value (-1), but there must be at least one NUMA node, so returning NUMA node zero\n",
            "2021-06-03 16:45:19.158075: I tensorflow/core/common_runtime/gpu/gpu_device.cc:1871] Adding visible gpu devices: 0\n",
            "2021-06-03 16:45:19.158153: I tensorflow/stream_executor/platform/default/dso_loader.cc:53] Successfully opened dynamic library libcudart.so.11.0\n",
            "2021-06-03 16:45:19.744806: I tensorflow/core/common_runtime/gpu/gpu_device.cc:1258] Device interconnect StreamExecutor with strength 1 edge matrix:\n",
            "2021-06-03 16:45:19.744865: I tensorflow/core/common_runtime/gpu/gpu_device.cc:1264]      0 \n",
            "2021-06-03 16:45:19.744880: I tensorflow/core/common_runtime/gpu/gpu_device.cc:1277] 0:   N \n",
            "2021-06-03 16:45:19.745060: I tensorflow/stream_executor/cuda/cuda_gpu_executor.cc:937] successful NUMA node read from SysFS had negative value (-1), but there must be at least one NUMA node, so returning NUMA node zero\n",
            "2021-06-03 16:45:19.745681: I tensorflow/stream_executor/cuda/cuda_gpu_executor.cc:937] successful NUMA node read from SysFS had negative value (-1), but there must be at least one NUMA node, so returning NUMA node zero\n",
            "2021-06-03 16:45:19.746249: I tensorflow/stream_executor/cuda/cuda_gpu_executor.cc:937] successful NUMA node read from SysFS had negative value (-1), but there must be at least one NUMA node, so returning NUMA node zero\n",
            "2021-06-03 16:45:19.746751: W tensorflow/core/common_runtime/gpu/gpu_bfc_allocator.cc:39] Overriding allow_growth setting because the TF_FORCE_GPU_ALLOW_GROWTH environment variable is set. Original config value was 0.\n",
            "2021-06-03 16:45:19.746798: I tensorflow/core/common_runtime/gpu/gpu_device.cc:1418] Created TensorFlow device (/job:localhost/replica:0/task:0/device:GPU:0 with 13837 MB memory) -> physical GPU (device: 0, name: Tesla T4, pci bus id: 0000:00:04.0, compute capability: 7.5)\n",
            "2021-06-03 16:45:20.308728: I tensorflow/compiler/mlir/mlir_graph_optimization_pass.cc:176] None of the MLIR Optimization Passes are enabled (registered 2)\n",
            "2021-06-03 16:45:20.309071: I tensorflow/core/platform/profile_utils/cpu_utils.cc:114] CPU Frequency: 2199995000 Hz\n",
            "2021-06-03 16:45:20.638708: I tensorflow/stream_executor/platform/default/dso_loader.cc:53] Successfully opened dynamic library libcudnn.so.8\n",
            "2021-06-03 16:45:21.120772: I tensorflow/stream_executor/cuda/cuda_dnn.cc:359] Loaded cuDNN version 8004\n",
            "2021-06-03 16:45:21.954661: I tensorflow/stream_executor/platform/default/dso_loader.cc:53] Successfully opened dynamic library libcublas.so.11\n",
            "2021-06-03 16:45:22.413669: I tensorflow/stream_executor/platform/default/dso_loader.cc:53] Successfully opened dynamic library libcublasLt.so.11\n",
            "65/65 [==============================] - 5s 32ms/step\n",
            "Output predictions saved\n"
          ],
          "name": "stdout"
        }
      ]
    },
    {
      "cell_type": "code",
      "metadata": {
        "id": "GUMlxIVmym4b"
      },
      "source": [
        "def make_y_pred(pred):\n",
        "  \n",
        "  npredictions = np.zeros(shape=pred.shape)\n",
        "  print(npredictions.shape)\n",
        "  \n",
        "  for i in range(0, pred.shape[0]):\n",
        "    for j in range(0, pred.shape[1]):\n",
        "      if pred[i][j] >= 0.5:\n",
        "        npredictions[i][j] = 1\n",
        "  \n",
        "  return npredictions\n",
        "\n",
        "\t# d = {'1dAVb': col1, 'RBBB': col2, 'LBBB': col3, 'SB': col4, 'AF': col5, 'ST': col6}\n",
        "\t# df = pd.DataFrame(data=d, dtype='int64')\n",
        "\n",
        "  # return df"
      ],
      "execution_count": null,
      "outputs": []
    },
    {
      "cell_type": "code",
      "metadata": {
        "id": "mCSq4PzJxHAB"
      },
      "source": [
        "def evaluate_model(y_pred, y_test):\n",
        "  accuracy = accuracy_score(y_test, y_pred)\n",
        "  precision = precision_score(y_test, y_pred, zero_division=0)\n",
        "  recall = recall_score(y_test, y_pred)\n",
        "  f1 = f1_score(y_test, y_pred)\n",
        "\n",
        "  return accuracy, precision, recall, f1"
      ],
      "execution_count": null,
      "outputs": []
    },
    {
      "cell_type": "code",
      "metadata": {
        "colab": {
          "base_uri": "https://localhost:8080/"
        },
        "id": "lKF5UDQex2PF",
        "outputId": "4ff0a12c-b122-41f4-b7e9-c66bfcbcbf61"
      },
      "source": [
        "model_pred = np.load('./predictions/1_class_prediction.npy')\n",
        "y_pred = make_y_pred(model_pred)\n",
        "accuracy, precision, recall, f1 = evaluate_model(y_pred, y_test)"
      ],
      "execution_count": null,
      "outputs": [
        {
          "output_type": "stream",
          "text": [
            "(2068, 1)\n"
          ],
          "name": "stdout"
        }
      ]
    },
    {
      "cell_type": "code",
      "metadata": {
        "colab": {
          "base_uri": "https://localhost:8080/"
        },
        "id": "nsV5TX6LyLgt",
        "outputId": "d0fbbf66-b168-49dd-b761-d6d009616557"
      },
      "source": [
        "print(\"accuracy: \", accuracy)\n",
        "print(\"precision: \", precision)\n",
        "print(\"recall: \", recall)\n",
        "print(\"f1 score: \", f1)"
      ],
      "execution_count": null,
      "outputs": [
        {
          "output_type": "stream",
          "text": [
            "accuracy:  0.9642166344294004\n",
            "precision:  0.3333333333333333\n",
            "recall:  0.0136986301369863\n",
            "f1 score:  0.02631578947368421\n"
          ],
          "name": "stdout"
        }
      ]
    }
  ]
}