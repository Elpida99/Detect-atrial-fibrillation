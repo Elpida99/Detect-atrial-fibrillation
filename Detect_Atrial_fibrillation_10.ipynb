{
  "nbformat": 4,
  "nbformat_minor": 0,
  "metadata": {
    "colab": {
      "name": "Detect_Atrial_fibrillation_acc.ipynb",
      "provenance": [],
      "collapsed_sections": [],
      "toc_visible": true,
      "include_colab_link": true
    },
    "kernelspec": {
      "name": "python3",
      "display_name": "Python 3"
    },
    "language_info": {
      "name": "python"
    },
    "accelerator": "GPU"
  },
  "cells": [
    {
      "cell_type": "markdown",
      "metadata": {
        "id": "view-in-github",
        "colab_type": "text"
      },
      "source": [
        "<a href=\"https://colab.research.google.com/github/Elpida99/Detect-atrial-fibrillation/blob/main/Detect_Atrial_fibrillation_acc.ipynb\" target=\"_parent\"><img src=\"https://colab.research.google.com/assets/colab-badge.svg\" alt=\"Open In Colab\"/></a>"
      ]
    },
    {
      "cell_type": "code",
      "metadata": {
        "colab": {
          "base_uri": "https://localhost:8080/"
        },
        "id": "gjKB9yUSSoDp",
        "outputId": "eb910d9c-6965-4975-84c9-27591b239a4c"
      },
      "source": [
        "from google.colab import drive\n",
        "drive.mount('/content/drive')"
      ],
      "execution_count": null,
      "outputs": [
        {
          "output_type": "stream",
          "text": [
            "Drive already mounted at /content/drive; to attempt to forcibly remount, call drive.mount(\"/content/drive\", force_remount=True).\n"
          ],
          "name": "stdout"
        }
      ]
    },
    {
      "cell_type": "code",
      "metadata": {
        "colab": {
          "base_uri": "https://localhost:8080/"
        },
        "id": "D80PQd-fTLzJ",
        "outputId": "cb8bd78d-0d20-49f2-a765-4acc99e2258a"
      },
      "source": [
        "%cd /content/drive/My Drive/Thesis_Elpida_Makri/Train_model/Detect_Atrial_Fibrillation"
      ],
      "execution_count": null,
      "outputs": [
        {
          "output_type": "stream",
          "text": [
            "/content/drive/My Drive/Thesis_Elpida_Makri/Train_model/Detect_Atrial_Fibrillation\n"
          ],
          "name": "stdout"
        }
      ]
    },
    {
      "cell_type": "code",
      "metadata": {
        "colab": {
          "base_uri": "https://localhost:8080/"
        },
        "id": "TmMO5oVVTnSi",
        "outputId": "7caed705-5d53-4a74-e3c8-87273b9fbef6"
      },
      "source": [
        "! ls \n",
        "! ls 1_class_data\n",
        "! ls 1_class_data/dataset_3"
      ],
      "execution_count": null,
      "outputs": [
        {
          "output_type": "stream",
          "text": [
            "1_class_data  models_1_class  my_model.py    my_train.py  __pycache__\n",
            "logs\t      my_datasets.py  my_predict.py  predictions  training.log\n",
            "af_dataset_ann.csv  dataset_3  X_test.npy  X_train.npy\ty_test.npy  y_train.npy\n",
            "dataset3_annotations.csv  dataset3_tracings.hdf5\n"
          ],
          "name": "stdout"
        }
      ]
    },
    {
      "cell_type": "code",
      "metadata": {
        "id": "q5V3-ElRTOHB"
      },
      "source": [
        "import pandas as pd     \n",
        "import numpy as np\n",
        "import h5py\n",
        "from sklearn.model_selection import train_test_split\n",
        "from sklearn.metrics import precision_score, recall_score, f1_score, accuracy_score, confusion_matrix\n",
        "from sklearn.metrics import precision_recall_curve, roc_auc_score, roc_curve\n",
        "import matplotlib.pyplot as plt"
      ],
      "execution_count": null,
      "outputs": []
    },
    {
      "cell_type": "code",
      "metadata": {
        "id": "HTeaCYJeWFT6"
      },
      "source": [
        "df_data = pd.read_csv('./1_class_data/dataset_3/dataset3_annotations.csv')\n",
        "df_af = df_data['AF']\n",
        "df_af.to_csv('./1_class_data/af_dataset_ann.csv',index=False)"
      ],
      "execution_count": null,
      "outputs": []
    },
    {
      "cell_type": "markdown",
      "metadata": {
        "id": "X1ZhJms0XDBi"
      },
      "source": [
        "#Load dataset and split"
      ]
    },
    {
      "cell_type": "code",
      "metadata": {
        "id": "f5KtZk7eTtWN"
      },
      "source": [
        "def load_dataset():\n",
        "\n",
        "  data = pd.read_csv('./1_class_data/af_dataset_ann.csv')\n",
        "  y = np.asarray(data)\n",
        "  print(y.shape)\n",
        "\n",
        "  with h5py.File('./1_class_data/dataset_3/dataset3_tracings.hdf5', 'r') as hdf:\n",
        "    x = np.asarray(hdf['tracings']) \n",
        "  hdf.close()\n",
        "\n",
        "  print(x.shape)\n",
        "\n",
        "  X_train, X_test, y_train, y_test = train_test_split(x, y, train_size=0.6, shuffle=False)\n",
        "\n",
        "  return X_train, X_test, y_train, y_test\n"
      ],
      "execution_count": null,
      "outputs": []
    },
    {
      "cell_type": "code",
      "metadata": {
        "colab": {
          "base_uri": "https://localhost:8080/"
        },
        "id": "L4VfKvN5VaHP",
        "outputId": "b3d793b7-23a4-4c85-cea0-fa1174a9bc02"
      },
      "source": [
        "X_train, X_test, y_train, y_test = load_dataset()\n",
        "\n",
        "print(\"X_train: \", X_train.shape)\n",
        "print(\"y_train: \", y_train.shape)\n",
        "print(\"X_test: \", X_test.shape)\n",
        "print(\"y_test: \", y_test.shape)"
      ],
      "execution_count": null,
      "outputs": [
        {
          "output_type": "stream",
          "text": [
            "(5170, 1)\n",
            "(5170, 4096, 12)\n",
            "X_train:  (3102, 4096, 12)\n",
            "y_train:  (3102, 1)\n",
            "X_test:  (2068, 4096, 12)\n",
            "y_test:  (2068, 1)\n"
          ],
          "name": "stdout"
        }
      ]
    },
    {
      "cell_type": "code",
      "metadata": {
        "id": "K6LH0WYoXccd"
      },
      "source": [
        "# save arrays\n",
        "np.save('./1_class_data/X_train.npy',X_train)\n",
        "np.save('./1_class_data/y_train.npy',y_train)\n",
        "np.save('./1_class_data/X_test.npy',X_test)\n",
        "np.save('./1_class_data/y_test.npy',y_test)"
      ],
      "execution_count": null,
      "outputs": []
    },
    {
      "cell_type": "markdown",
      "metadata": {
        "id": "KpZzk4mjW-L1"
      },
      "source": [
        "#Train model"
      ]
    },
    {
      "cell_type": "code",
      "metadata": {
        "colab": {
          "base_uri": "https://localhost:8080/"
        },
        "id": "y0sI0mDZfgpp",
        "outputId": "2459cbb2-b566-4f2a-af68-bfbe5e5c833e"
      },
      "source": [
        "!python my_train.py ./1_class_data/X_train.npy ./1_class_data/y_train.npy"
      ],
      "execution_count": null,
      "outputs": [
        {
          "output_type": "stream",
          "text": [
            "2021-06-03 17:13:40.755787: I tensorflow/stream_executor/platform/default/dso_loader.cc:53] Successfully opened dynamic library libcudart.so.11.0\n",
            "<class 'numpy.ndarray'>\n",
            "<class 'numpy.ndarray'>\n",
            "1\n",
            "2021-06-03 17:13:43.157636: I tensorflow/stream_executor/platform/default/dso_loader.cc:53] Successfully opened dynamic library libcuda.so.1\n",
            "2021-06-03 17:13:43.187078: I tensorflow/stream_executor/cuda/cuda_gpu_executor.cc:937] successful NUMA node read from SysFS had negative value (-1), but there must be at least one NUMA node, so returning NUMA node zero\n",
            "2021-06-03 17:13:43.187732: I tensorflow/core/common_runtime/gpu/gpu_device.cc:1733] Found device 0 with properties: \n",
            "pciBusID: 0000:00:04.0 name: Tesla T4 computeCapability: 7.5\n",
            "coreClock: 1.59GHz coreCount: 40 deviceMemorySize: 14.75GiB deviceMemoryBandwidth: 298.08GiB/s\n",
            "2021-06-03 17:13:43.187781: I tensorflow/stream_executor/platform/default/dso_loader.cc:53] Successfully opened dynamic library libcudart.so.11.0\n",
            "2021-06-03 17:13:43.190415: I tensorflow/stream_executor/platform/default/dso_loader.cc:53] Successfully opened dynamic library libcublas.so.11\n",
            "2021-06-03 17:13:43.190490: I tensorflow/stream_executor/platform/default/dso_loader.cc:53] Successfully opened dynamic library libcublasLt.so.11\n",
            "2021-06-03 17:13:43.192799: I tensorflow/stream_executor/platform/default/dso_loader.cc:53] Successfully opened dynamic library libcufft.so.10\n",
            "2021-06-03 17:13:43.193169: I tensorflow/stream_executor/platform/default/dso_loader.cc:53] Successfully opened dynamic library libcurand.so.10\n",
            "2021-06-03 17:13:43.195080: I tensorflow/stream_executor/platform/default/dso_loader.cc:53] Successfully opened dynamic library libcusolver.so.10\n",
            "2021-06-03 17:13:43.195779: I tensorflow/stream_executor/platform/default/dso_loader.cc:53] Successfully opened dynamic library libcusparse.so.11\n",
            "2021-06-03 17:13:43.195980: I tensorflow/stream_executor/platform/default/dso_loader.cc:53] Successfully opened dynamic library libcudnn.so.8\n",
            "2021-06-03 17:13:43.196077: I tensorflow/stream_executor/cuda/cuda_gpu_executor.cc:937] successful NUMA node read from SysFS had negative value (-1), but there must be at least one NUMA node, so returning NUMA node zero\n",
            "2021-06-03 17:13:43.196658: I tensorflow/stream_executor/cuda/cuda_gpu_executor.cc:937] successful NUMA node read from SysFS had negative value (-1), but there must be at least one NUMA node, so returning NUMA node zero\n",
            "2021-06-03 17:13:43.197192: I tensorflow/core/common_runtime/gpu/gpu_device.cc:1871] Adding visible gpu devices: 0\n",
            "2021-06-03 17:13:43.197642: I tensorflow/stream_executor/cuda/cuda_gpu_executor.cc:937] successful NUMA node read from SysFS had negative value (-1), but there must be at least one NUMA node, so returning NUMA node zero\n",
            "2021-06-03 17:13:43.198193: I tensorflow/core/common_runtime/gpu/gpu_device.cc:1733] Found device 0 with properties: \n",
            "pciBusID: 0000:00:04.0 name: Tesla T4 computeCapability: 7.5\n",
            "coreClock: 1.59GHz coreCount: 40 deviceMemorySize: 14.75GiB deviceMemoryBandwidth: 298.08GiB/s\n",
            "2021-06-03 17:13:43.198269: I tensorflow/stream_executor/cuda/cuda_gpu_executor.cc:937] successful NUMA node read from SysFS had negative value (-1), but there must be at least one NUMA node, so returning NUMA node zero\n",
            "2021-06-03 17:13:43.198799: I tensorflow/stream_executor/cuda/cuda_gpu_executor.cc:937] successful NUMA node read from SysFS had negative value (-1), but there must be at least one NUMA node, so returning NUMA node zero\n",
            "2021-06-03 17:13:43.199320: I tensorflow/core/common_runtime/gpu/gpu_device.cc:1871] Adding visible gpu devices: 0\n",
            "2021-06-03 17:13:43.199370: I tensorflow/stream_executor/platform/default/dso_loader.cc:53] Successfully opened dynamic library libcudart.so.11.0\n",
            "2021-06-03 17:13:43.786855: I tensorflow/core/common_runtime/gpu/gpu_device.cc:1258] Device interconnect StreamExecutor with strength 1 edge matrix:\n",
            "2021-06-03 17:13:43.786913: I tensorflow/core/common_runtime/gpu/gpu_device.cc:1264]      0 \n",
            "2021-06-03 17:13:43.786929: I tensorflow/core/common_runtime/gpu/gpu_device.cc:1277] 0:   N \n",
            "2021-06-03 17:13:43.787112: I tensorflow/stream_executor/cuda/cuda_gpu_executor.cc:937] successful NUMA node read from SysFS had negative value (-1), but there must be at least one NUMA node, so returning NUMA node zero\n",
            "2021-06-03 17:13:43.787712: I tensorflow/stream_executor/cuda/cuda_gpu_executor.cc:937] successful NUMA node read from SysFS had negative value (-1), but there must be at least one NUMA node, so returning NUMA node zero\n",
            "2021-06-03 17:13:43.788286: I tensorflow/stream_executor/cuda/cuda_gpu_executor.cc:937] successful NUMA node read from SysFS had negative value (-1), but there must be at least one NUMA node, so returning NUMA node zero\n",
            "2021-06-03 17:13:43.788809: W tensorflow/core/common_runtime/gpu/gpu_bfc_allocator.cc:39] Overriding allow_growth setting because the TF_FORCE_GPU_ALLOW_GROWTH environment variable is set. Original config value was 0.\n",
            "2021-06-03 17:13:43.788859: I tensorflow/core/common_runtime/gpu/gpu_device.cc:1418] Created TensorFlow device (/job:localhost/replica:0/task:0/device:GPU:0 with 13837 MB memory) -> physical GPU (device: 0, name: Tesla T4, pci bus id: 0000:00:04.0, compute capability: 7.5)\n",
            "2021-06-03 17:13:44.023575: I tensorflow/core/profiler/lib/profiler_session.cc:126] Profiler session initializing.\n",
            "2021-06-03 17:13:44.023624: I tensorflow/core/profiler/lib/profiler_session.cc:141] Profiler session started.\n",
            "2021-06-03 17:13:44.023700: I tensorflow/core/profiler/internal/gpu/cupti_tracer.cc:1611] Profiler found 1 GPUs\n",
            "2021-06-03 17:13:44.025059: I tensorflow/stream_executor/platform/default/dso_loader.cc:53] Successfully opened dynamic library libcupti.so.11.0\n",
            "2021-06-03 17:13:44.163301: I tensorflow/core/profiler/lib/profiler_session.cc:159] Profiler session tear down.\n",
            "2021-06-03 17:13:44.163518: I tensorflow/core/profiler/internal/gpu/cupti_tracer.cc:1743] CUPTI activity buffer flushed\n",
            "/usr/local/lib/python3.7/dist-packages/tensorflow/python/keras/utils/generic_utils.py:497: CustomMaskWarning: Custom mask layers require a config and must override get_config. When loading, the custom mask layer must be passed to the custom_objects argument.\n",
            "  category=CustomMaskWarning)\n",
            "2021-06-03 17:13:44.349310: I tensorflow/compiler/mlir/mlir_graph_optimization_pass.cc:176] None of the MLIR Optimization Passes are enabled (registered 2)\n",
            "2021-06-03 17:13:44.349644: I tensorflow/core/platform/profile_utils/cpu_utils.cc:114] CPU Frequency: 2199995000 Hz\n",
            "Epoch 1/10\n",
            "2021-06-03 17:13:46.626544: I tensorflow/stream_executor/platform/default/dso_loader.cc:53] Successfully opened dynamic library libcudnn.so.8\n",
            "2021-06-03 17:13:47.091500: I tensorflow/stream_executor/cuda/cuda_dnn.cc:359] Loaded cuDNN version 8004\n",
            "2021-06-03 17:13:47.955691: I tensorflow/stream_executor/platform/default/dso_loader.cc:53] Successfully opened dynamic library libcublas.so.11\n",
            "2021-06-03 17:13:48.524535: I tensorflow/stream_executor/platform/default/dso_loader.cc:53] Successfully opened dynamic library libcublasLt.so.11\n",
            " 1/48 [..............................] - ETA: 4:25 - loss: 1.1011 - accuracy: 0.18752021-06-03 17:13:50.070693: I tensorflow/core/profiler/lib/profiler_session.cc:126] Profiler session initializing.\n",
            "2021-06-03 17:13:50.070737: I tensorflow/core/profiler/lib/profiler_session.cc:141] Profiler session started.\n",
            " 2/48 [>.............................] - ETA: 2:03 - loss: 0.4618 - accuracy: 0.71882021-06-03 17:13:52.688142: I tensorflow/core/profiler/lib/profiler_session.cc:66] Profiler session collecting data.\n",
            "2021-06-03 17:13:52.690273: I tensorflow/core/profiler/internal/gpu/cupti_tracer.cc:1743] CUPTI activity buffer flushed\n",
            "2021-06-03 17:13:52.865863: I tensorflow/core/profiler/internal/gpu/cupti_collector.cc:673]  GpuTracer has collected 5570 callback api events and 4669 activity events. \n",
            "2021-06-03 17:13:52.908350: I tensorflow/core/profiler/lib/profiler_session.cc:159] Profiler session tear down.\n",
            "2021-06-03 17:13:52.975745: I tensorflow/core/profiler/rpc/client/save_profile.cc:137] Creating directory: ./logs/train/plugins/profile/2021_06_03_17_13_52\n",
            "2021-06-03 17:13:53.030265: I tensorflow/core/profiler/rpc/client/save_profile.cc:143] Dumped gzipped tool data for trace.json.gz to ./logs/train/plugins/profile/2021_06_03_17_13_52/183db1bb2bfd.trace.json.gz\n",
            "2021-06-03 17:13:53.090913: I tensorflow/core/profiler/rpc/client/save_profile.cc:137] Creating directory: ./logs/train/plugins/profile/2021_06_03_17_13_52\n",
            "2021-06-03 17:13:53.100047: I tensorflow/core/profiler/rpc/client/save_profile.cc:143] Dumped gzipped tool data for memory_profile.json.gz to ./logs/train/plugins/profile/2021_06_03_17_13_52/183db1bb2bfd.memory_profile.json.gz\n",
            "2021-06-03 17:13:53.126093: I tensorflow/core/profiler/rpc/client/capture_profile.cc:251] Creating directory: ./logs/train/plugins/profile/2021_06_03_17_13_52Dumped tool data for xplane.pb to ./logs/train/plugins/profile/2021_06_03_17_13_52/183db1bb2bfd.xplane.pb\n",
            "Dumped tool data for overview_page.pb to ./logs/train/plugins/profile/2021_06_03_17_13_52/183db1bb2bfd.overview_page.pb\n",
            "Dumped tool data for input_pipeline.pb to ./logs/train/plugins/profile/2021_06_03_17_13_52/183db1bb2bfd.input_pipeline.pb\n",
            "Dumped tool data for tensorflow_stats.pb to ./logs/train/plugins/profile/2021_06_03_17_13_52/183db1bb2bfd.tensorflow_stats.pb\n",
            "Dumped tool data for kernel_stats.pb to ./logs/train/plugins/profile/2021_06_03_17_13_52/183db1bb2bfd.kernel_stats.pb\n",
            "\n",
            "48/48 [==============================] - 21s 327ms/step - loss: 0.2360 - accuracy: 0.9510 - val_loss: 0.3225 - val_accuracy: 0.9677\n",
            "Epoch 2/10\n",
            "48/48 [==============================] - 12s 246ms/step - loss: 0.1535 - accuracy: 0.9605 - val_loss: 0.1959 - val_accuracy: 0.9677\n",
            "Epoch 3/10\n",
            "48/48 [==============================] - 12s 250ms/step - loss: 0.1222 - accuracy: 0.9641 - val_loss: 0.1539 - val_accuracy: 0.9677\n",
            "Epoch 4/10\n",
            "48/48 [==============================] - 12s 254ms/step - loss: 0.0988 - accuracy: 0.9661 - val_loss: 0.1264 - val_accuracy: 0.9677\n",
            "Epoch 5/10\n",
            "48/48 [==============================] - 13s 259ms/step - loss: 0.0817 - accuracy: 0.9727 - val_loss: 0.1020 - val_accuracy: 0.9677\n",
            "Epoch 6/10\n",
            "48/48 [==============================] - 13s 265ms/step - loss: 0.0520 - accuracy: 0.9839 - val_loss: 0.1549 - val_accuracy: 0.9677\n",
            "Epoch 7/10\n",
            "48/48 [==============================] - 13s 269ms/step - loss: 0.0247 - accuracy: 0.9928 - val_loss: 0.0846 - val_accuracy: 0.9516\n",
            "Epoch 8/10\n",
            "48/48 [==============================] - 13s 266ms/step - loss: 0.0087 - accuracy: 0.9984 - val_loss: 0.1225 - val_accuracy: 0.9677\n",
            "Epoch 9/10\n",
            "48/48 [==============================] - 13s 263ms/step - loss: 0.0038 - accuracy: 0.9997 - val_loss: 0.1512 - val_accuracy: 0.9516\n",
            "Epoch 10/10\n",
            "48/48 [==============================] - 13s 263ms/step - loss: 0.0012 - accuracy: 1.0000 - val_loss: 0.1805 - val_accuracy: 0.9516\n"
          ],
          "name": "stdout"
        }
      ]
    },
    {
      "cell_type": "markdown",
      "metadata": {
        "id": "ZYrj9IaEq9iD"
      },
      "source": [
        "# Predict and Evaluate"
      ]
    },
    {
      "cell_type": "code",
      "metadata": {
        "colab": {
          "base_uri": "https://localhost:8080/"
        },
        "id": "eas5l7XDq9R9",
        "outputId": "f11f68eb-1a11-4a40-b41b-4fcec0600921"
      },
      "source": [
        "! python my_predict.py ./models_1_class/final_model.hdf5 ./1_class_data/X_test.npy ./1_class_data/y_test.npy --output_file ./predictions/1_class_prediction_acc.npy"
      ],
      "execution_count": null,
      "outputs": [
        {
          "output_type": "stream",
          "text": [
            "2021-06-03 17:17:42.585048: I tensorflow/stream_executor/platform/default/dso_loader.cc:53] Successfully opened dynamic library libcudart.so.11.0\n",
            "./models_1_class/final_model.hdf5\n",
            "2021-06-03 17:17:44.552375: I tensorflow/stream_executor/platform/default/dso_loader.cc:53] Successfully opened dynamic library libcuda.so.1\n",
            "2021-06-03 17:17:44.584400: I tensorflow/stream_executor/cuda/cuda_gpu_executor.cc:937] successful NUMA node read from SysFS had negative value (-1), but there must be at least one NUMA node, so returning NUMA node zero\n",
            "2021-06-03 17:17:44.585005: I tensorflow/core/common_runtime/gpu/gpu_device.cc:1733] Found device 0 with properties: \n",
            "pciBusID: 0000:00:04.0 name: Tesla T4 computeCapability: 7.5\n",
            "coreClock: 1.59GHz coreCount: 40 deviceMemorySize: 14.75GiB deviceMemoryBandwidth: 298.08GiB/s\n",
            "2021-06-03 17:17:44.585053: I tensorflow/stream_executor/platform/default/dso_loader.cc:53] Successfully opened dynamic library libcudart.so.11.0\n",
            "2021-06-03 17:17:44.587906: I tensorflow/stream_executor/platform/default/dso_loader.cc:53] Successfully opened dynamic library libcublas.so.11\n",
            "2021-06-03 17:17:44.587984: I tensorflow/stream_executor/platform/default/dso_loader.cc:53] Successfully opened dynamic library libcublasLt.so.11\n",
            "2021-06-03 17:17:44.589790: I tensorflow/stream_executor/platform/default/dso_loader.cc:53] Successfully opened dynamic library libcufft.so.10\n",
            "2021-06-03 17:17:44.590276: I tensorflow/stream_executor/platform/default/dso_loader.cc:53] Successfully opened dynamic library libcurand.so.10\n",
            "2021-06-03 17:17:44.592628: I tensorflow/stream_executor/platform/default/dso_loader.cc:53] Successfully opened dynamic library libcusolver.so.10\n",
            "2021-06-03 17:17:44.593438: I tensorflow/stream_executor/platform/default/dso_loader.cc:53] Successfully opened dynamic library libcusparse.so.11\n",
            "2021-06-03 17:17:44.593672: I tensorflow/stream_executor/platform/default/dso_loader.cc:53] Successfully opened dynamic library libcudnn.so.8\n",
            "2021-06-03 17:17:44.593790: I tensorflow/stream_executor/cuda/cuda_gpu_executor.cc:937] successful NUMA node read from SysFS had negative value (-1), but there must be at least one NUMA node, so returning NUMA node zero\n",
            "2021-06-03 17:17:44.594626: I tensorflow/stream_executor/cuda/cuda_gpu_executor.cc:937] successful NUMA node read from SysFS had negative value (-1), but there must be at least one NUMA node, so returning NUMA node zero\n",
            "2021-06-03 17:17:44.595384: I tensorflow/core/common_runtime/gpu/gpu_device.cc:1871] Adding visible gpu devices: 0\n",
            "2021-06-03 17:17:44.596017: I tensorflow/stream_executor/cuda/cuda_gpu_executor.cc:937] successful NUMA node read from SysFS had negative value (-1), but there must be at least one NUMA node, so returning NUMA node zero\n",
            "2021-06-03 17:17:44.596785: I tensorflow/core/common_runtime/gpu/gpu_device.cc:1733] Found device 0 with properties: \n",
            "pciBusID: 0000:00:04.0 name: Tesla T4 computeCapability: 7.5\n",
            "coreClock: 1.59GHz coreCount: 40 deviceMemorySize: 14.75GiB deviceMemoryBandwidth: 298.08GiB/s\n",
            "2021-06-03 17:17:44.596880: I tensorflow/stream_executor/cuda/cuda_gpu_executor.cc:937] successful NUMA node read from SysFS had negative value (-1), but there must be at least one NUMA node, so returning NUMA node zero\n",
            "2021-06-03 17:17:44.597689: I tensorflow/stream_executor/cuda/cuda_gpu_executor.cc:937] successful NUMA node read from SysFS had negative value (-1), but there must be at least one NUMA node, so returning NUMA node zero\n",
            "2021-06-03 17:17:44.598448: I tensorflow/core/common_runtime/gpu/gpu_device.cc:1871] Adding visible gpu devices: 0\n",
            "2021-06-03 17:17:44.598513: I tensorflow/stream_executor/platform/default/dso_loader.cc:53] Successfully opened dynamic library libcudart.so.11.0\n",
            "2021-06-03 17:17:45.188005: I tensorflow/core/common_runtime/gpu/gpu_device.cc:1258] Device interconnect StreamExecutor with strength 1 edge matrix:\n",
            "2021-06-03 17:17:45.188057: I tensorflow/core/common_runtime/gpu/gpu_device.cc:1264]      0 \n",
            "2021-06-03 17:17:45.188077: I tensorflow/core/common_runtime/gpu/gpu_device.cc:1277] 0:   N \n",
            "2021-06-03 17:17:45.188265: I tensorflow/stream_executor/cuda/cuda_gpu_executor.cc:937] successful NUMA node read from SysFS had negative value (-1), but there must be at least one NUMA node, so returning NUMA node zero\n",
            "2021-06-03 17:17:45.188859: I tensorflow/stream_executor/cuda/cuda_gpu_executor.cc:937] successful NUMA node read from SysFS had negative value (-1), but there must be at least one NUMA node, so returning NUMA node zero\n",
            "2021-06-03 17:17:45.189430: I tensorflow/stream_executor/cuda/cuda_gpu_executor.cc:937] successful NUMA node read from SysFS had negative value (-1), but there must be at least one NUMA node, so returning NUMA node zero\n",
            "2021-06-03 17:17:45.189935: W tensorflow/core/common_runtime/gpu/gpu_bfc_allocator.cc:39] Overriding allow_growth setting because the TF_FORCE_GPU_ALLOW_GROWTH environment variable is set. Original config value was 0.\n",
            "2021-06-03 17:17:45.189982: I tensorflow/core/common_runtime/gpu/gpu_device.cc:1418] Created TensorFlow device (/job:localhost/replica:0/task:0/device:GPU:0 with 13837 MB memory) -> physical GPU (device: 0, name: Tesla T4, pci bus id: 0000:00:04.0, compute capability: 7.5)\n",
            "2021-06-03 17:17:45.527059: I tensorflow/compiler/mlir/mlir_graph_optimization_pass.cc:176] None of the MLIR Optimization Passes are enabled (registered 2)\n",
            "2021-06-03 17:17:45.527420: I tensorflow/core/platform/profile_utils/cpu_utils.cc:114] CPU Frequency: 2199995000 Hz\n",
            "2021-06-03 17:17:45.860550: I tensorflow/stream_executor/platform/default/dso_loader.cc:53] Successfully opened dynamic library libcudnn.so.8\n",
            "2021-06-03 17:17:46.362569: I tensorflow/stream_executor/cuda/cuda_dnn.cc:359] Loaded cuDNN version 8004\n",
            "2021-06-03 17:17:51.953037: I tensorflow/stream_executor/platform/default/dso_loader.cc:53] Successfully opened dynamic library libcublas.so.11\n",
            "2021-06-03 17:17:52.438291: I tensorflow/stream_executor/platform/default/dso_loader.cc:53] Successfully opened dynamic library libcublasLt.so.11\n",
            "65/65 [==============================] - 10s 34ms/step\n",
            "Output predictions saved\n"
          ],
          "name": "stdout"
        }
      ]
    },
    {
      "cell_type": "code",
      "metadata": {
        "id": "GUMlxIVmym4b"
      },
      "source": [
        "def make_y_pred(pred):\n",
        "  \n",
        "  npredictions = np.zeros(shape=pred.shape)\n",
        "  print(npredictions.shape)\n",
        "  \n",
        "  for i in range(0, pred.shape[0]):\n",
        "    for j in range(0, pred.shape[1]):\n",
        "      if pred[i][j] >= 0.5:\n",
        "        npredictions[i][j] = 1\n",
        "  \n",
        "  return npredictions"
      ],
      "execution_count": null,
      "outputs": []
    },
    {
      "cell_type": "code",
      "metadata": {
        "id": "mCSq4PzJxHAB"
      },
      "source": [
        "def evaluate_model(y_pred, y_test):\n",
        "  accuracy = accuracy_score(y_test, y_pred)\n",
        "  precision = precision_score(y_test, y_pred, zero_division=0)\n",
        "  recall = recall_score(y_test, y_pred)\n",
        "  f1 = f1_score(y_test, y_pred)\n",
        "\n",
        "  return accuracy, precision, recall, f1"
      ],
      "execution_count": null,
      "outputs": []
    },
    {
      "cell_type": "code",
      "metadata": {
        "colab": {
          "base_uri": "https://localhost:8080/"
        },
        "id": "lKF5UDQex2PF",
        "outputId": "ca4499f2-3317-42a1-f753-d3268682f825"
      },
      "source": [
        "model_pred = np.load('./predictions/1_class_prediction_acc.npy')\n",
        "y_pred = make_y_pred(model_pred)\n",
        "accuracy, precision, recall, f1 = evaluate_model(y_pred, y_test)"
      ],
      "execution_count": null,
      "outputs": [
        {
          "output_type": "stream",
          "text": [
            "(2068, 1)\n"
          ],
          "name": "stdout"
        }
      ]
    },
    {
      "cell_type": "code",
      "metadata": {
        "colab": {
          "base_uri": "https://localhost:8080/"
        },
        "id": "nsV5TX6LyLgt",
        "outputId": "9089024b-9348-4ca7-b804-e82153fe5ea8"
      },
      "source": [
        "print(\"accuracy: \", accuracy)\n",
        "print(\"precision: \", precision)\n",
        "print(\"recall: \", recall)\n",
        "print(\"f1 score: \", f1)"
      ],
      "execution_count": null,
      "outputs": [
        {
          "output_type": "stream",
          "text": [
            "accuracy:  0.9642166344294004\n",
            "precision:  0.3333333333333333\n",
            "recall:  0.0136986301369863\n",
            "f1 score:  0.02631578947368421\n"
          ],
          "name": "stdout"
        }
      ]
    },
    {
      "cell_type": "markdown",
      "metadata": {
        "id": "PTb7UTMnBOPG"
      },
      "source": [
        "#Plots"
      ]
    },
    {
      "cell_type": "code",
      "metadata": {
        "colab": {
          "base_uri": "https://localhost:8080/"
        },
        "id": "ZgFuBXSq9eBJ",
        "outputId": "7830d747-6ada-42b2-e228-98c842c845a9"
      },
      "source": [
        "c = confusion_matrix(y_test, y_pred)\n",
        "\n",
        "print(\"tn        tp\")\n",
        "print(\"____________\")\n",
        "print(c) \n",
        "print(\"____________\")\n",
        "print(\"fn        fp\")"
      ],
      "execution_count": null,
      "outputs": [
        {
          "output_type": "stream",
          "text": [
            "tn        tp\n",
            "____________\n",
            "[[1995    0]\n",
            " [  72    1]]\n",
            "____________\n",
            "fn        fp\n"
          ],
          "name": "stdout"
        }
      ]
    },
    {
      "cell_type": "code",
      "metadata": {
        "colab": {
          "base_uri": "https://localhost:8080/",
          "height": 312
        },
        "id": "i0Sr4jcj6DcN",
        "outputId": "d77cc9a9-e3dc-45fd-9915-00750f10be74"
      },
      "source": [
        "precision, recall, threshold = precision_recall_curve(y_test, model_pred)\n",
        "plt.figure()\n",
        "plt.title(\"Precision-recall curve\")\n",
        "plt.xlabel(\"Recall\")\n",
        "plt.ylabel(\"Precision\")\n",
        "plt.plot(recall, precision)\n"
      ],
      "execution_count": null,
      "outputs": [
        {
          "output_type": "execute_result",
          "data": {
            "text/plain": [
              "[<matplotlib.lines.Line2D at 0x7f2e057d64d0>]"
            ]
          },
          "metadata": {
            "tags": []
          },
          "execution_count": 111
        },
        {
          "output_type": "display_data",
          "data": {
            "image/png": "[encoded data removed]",
            "text/plain": [
              "<Figure size 432x288 with 1 Axes>"
            ]
          },
          "metadata": {
            "tags": [],
            "needs_background": "light"
          }
        }
      ]
    },
    {
      "cell_type": "code",
      "metadata": {
        "colab": {
          "base_uri": "https://localhost:8080/",
          "height": 295
        },
        "id": "WDxaYMLGAa_y",
        "outputId": "2686ef55-3c19-474e-b55f-c8cf7dac53a1"
      },
      "source": [
        "fpr, tpr, threshold = roc_curve(y_test, y_pred)\n",
        "roc_auc = auc(fpr, tpr)\n",
        "\n",
        "plt.title('Receiver Operating Characteristic')\n",
        "plt.plot(fpr, tpr, 'b', label = 'AUC = %0.2f' % roc_auc)\n",
        "plt.legend(loc = 'lower right')\n",
        "plt.plot([0, 1], [0, 1],'r--')\n",
        "plt.xlim([0, 1])\n",
        "plt.ylim([0, 1])\n",
        "plt.ylabel('True Positive Rate')\n",
        "plt.xlabel('False Positive Rate')\n",
        "plt.show()"
      ],
      "execution_count": null,
      "outputs": [
        {
          "output_type": "display_data",
          "data": {
            "image/png": "[encoded data removed]",
            "text/plain": [
              "<Figure size 432x288 with 1 Axes>"
            ]
          },
          "metadata": {
            "tags": [],
            "needs_background": "light"
          }
        }
      ]
    }
  ]
}
