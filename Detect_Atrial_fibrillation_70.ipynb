{
  "nbformat": 4,
  "nbformat_minor": 0,
  "metadata": {
    "colab": {
      "name": "Detect_Atrial_fibrillation_70.ipynb",
      "provenance": [],
      "collapsed_sections": [],
      "toc_visible": true
    },
    "kernelspec": {
      "name": "python3",
      "display_name": "Python 3"
    },
    "language_info": {
      "name": "python"
    },
    "accelerator": "GPU"
  },
  "cells": [
    {
      "cell_type": "code",
      "metadata": {
        "colab": {
          "base_uri": "https://localhost:8080/"
        },
        "id": "gjKB9yUSSoDp",
        "outputId": "041d6bda-cd8b-41f0-efff-05ea7d4eae00"
      },
      "source": [
        "from google.colab import drive\n",
        "drive.mount('/content/drive')"
      ],
      "execution_count": 1,
      "outputs": [
        {
          "output_type": "stream",
          "text": [
            "Mounted at /content/drive\n"
          ],
          "name": "stdout"
        }
      ]
    },
    {
      "cell_type": "code",
      "metadata": {
        "colab": {
          "base_uri": "https://localhost:8080/"
        },
        "id": "D80PQd-fTLzJ",
        "outputId": "5487f290-2ca7-41b1-e4c0-d291ed70fb2a"
      },
      "source": [
        "%cd /content/drive/My Drive/Thesis_Elpida_Makri/Train_model/Detect_Atrial_Fibrillation"
      ],
      "execution_count": 2,
      "outputs": [
        {
          "output_type": "stream",
          "text": [
            "/content/drive/My Drive/Thesis_Elpida_Makri/Train_model/Detect_Atrial_Fibrillation\n"
          ],
          "name": "stdout"
        }
      ]
    },
    {
      "cell_type": "code",
      "metadata": {
        "colab": {
          "base_uri": "https://localhost:8080/"
        },
        "id": "TmMO5oVVTnSi",
        "outputId": "2ec9063e-4122-472d-c26d-334ddd59213e"
      },
      "source": [
        "! ls \n",
        "! ls 1_class_data\n",
        "! ls 1_class_data/dataset_3"
      ],
      "execution_count": 3,
      "outputs": [
        {
          "output_type": "stream",
          "text": [
            "1_class_data\tmy_datasets.py\tmy_train_2.py  __pycache__\n",
            "logs\t\tmy_model.py\tmy_train.py    training.log\n",
            "models_1_class\tmy_predict.py\tpredictions\n",
            "af_dataset_ann.csv  dataset_3  X_test.npy  X_train.npy\ty_test.npy  y_train.npy\n",
            "dataset3_annotations.csv  dataset3_tracings.hdf5\n"
          ],
          "name": "stdout"
        }
      ]
    },
    {
      "cell_type": "code",
      "metadata": {
        "id": "q5V3-ElRTOHB"
      },
      "source": [
        "import pandas as pd     \n",
        "import numpy as np\n",
        "import h5py\n",
        "from sklearn.model_selection import train_test_split\n",
        "from sklearn.metrics import precision_score, recall_score, f1_score, accuracy_score, confusion_matrix\n",
        "from sklearn.metrics import precision_recall_curve, roc_auc_score, roc_curve, auc\n",
        "import matplotlib.pyplot as plt\n",
        "import io"
      ],
      "execution_count": 9,
      "outputs": []
    },
    {
      "cell_type": "code",
      "metadata": {
        "id": "j4Txyy2ZUqZi"
      },
      "source": [
        "df_data = pd.read_csv('./1_class_data/dataset_3/dataset3_annotations.csv')\n",
        "df_af = df_data['AF']\n",
        "df_af.to_csv('./1_class_data/af_dataset_ann.csv',index=False)"
      ],
      "execution_count": null,
      "outputs": []
    },
    {
      "cell_type": "markdown",
      "metadata": {
        "id": "X1ZhJms0XDBi"
      },
      "source": [
        "#Load dataset and split"
      ]
    },
    {
      "cell_type": "markdown",
      "metadata": {
        "id": "YB9P9h7NEAnZ"
      },
      "source": [
        "Data are saved in this section, so start from Train model"
      ]
    },
    {
      "cell_type": "code",
      "metadata": {
        "id": "f5KtZk7eTtWN"
      },
      "source": [
        "def load_dataset():\n",
        "\n",
        "  data = pd.read_csv('./1_class_data/af_dataset_ann.csv')\n",
        "  y = np.asarray(data)\n",
        "  print(y.shape)\n",
        "\n",
        "  with h5py.File('./1_class_data/dataset_3/dataset3_tracings.hdf5', 'r') as hdf:\n",
        "    x = np.asarray(hdf['tracings']) \n",
        "  hdf.close()\n",
        "\n",
        "  print(x.shape)\n",
        "\n",
        "  X_train, X_test, y_train, y_test = train_test_split(x, y, train_size=0.6, shuffle=False)\n",
        "\n",
        "  return X_train, X_test, y_train, y_test\n"
      ],
      "execution_count": null,
      "outputs": []
    },
    {
      "cell_type": "code",
      "metadata": {
        "colab": {
          "base_uri": "https://localhost:8080/"
        },
        "id": "L4VfKvN5VaHP",
        "outputId": "b3d793b7-23a4-4c85-cea0-fa1174a9bc02"
      },
      "source": [
        "X_train, X_test, y_train, y_test = load_dataset()\n",
        "\n",
        "print(\"X_train: \", X_train.shape)\n",
        "print(\"y_train: \", y_train.shape)\n",
        "print(\"X_test: \", X_test.shape)\n",
        "print(\"y_test: \", y_test.shape)"
      ],
      "execution_count": null,
      "outputs": [
        {
          "output_type": "stream",
          "text": [
            "(5170, 1)\n",
            "(5170, 4096, 12)\n",
            "X_train:  (3102, 4096, 12)\n",
            "y_train:  (3102, 1)\n",
            "X_test:  (2068, 4096, 12)\n",
            "y_test:  (2068, 1)\n"
          ],
          "name": "stdout"
        }
      ]
    },
    {
      "cell_type": "code",
      "metadata": {
        "id": "NK26ybeAC_a4"
      },
      "source": [
        "# save arrays\n",
        "np.save('./1_class_data/X_train.npy',X_train)\n",
        "np.save('./1_class_data/y_train.npy',y_train)\n",
        "np.save('./1_class_data/X_test.npy',X_test)\n",
        "np.save('./1_class_data/y_test.npy',y_test)"
      ],
      "execution_count": null,
      "outputs": []
    },
    {
      "cell_type": "markdown",
      "metadata": {
        "id": "KpZzk4mjW-L1"
      },
      "source": [
        "#Train model"
      ]
    },
    {
      "cell_type": "code",
      "metadata": {
        "colab": {
          "base_uri": "https://localhost:8080/"
        },
        "id": "y0sI0mDZfgpp",
        "outputId": "bcc8d3f9-77d2-4cce-cdfe-fe69471ad41b"
      },
      "source": [
        "!python my_train.py ./1_class_data/X_train.npy ./1_class_data/y_train.npy"
      ],
      "execution_count": null,
      "outputs": [
        {
          "output_type": "stream",
          "text": [
            "2021-06-08 09:27:19.676357: I tensorflow/stream_executor/platform/default/dso_loader.cc:53] Successfully opened dynamic library libcudart.so.11.0\n",
            "<class 'numpy.ndarray'>\n",
            "<class 'numpy.ndarray'>\n",
            "1\n",
            "2021-06-08 09:27:21.858494: I tensorflow/stream_executor/platform/default/dso_loader.cc:53] Successfully opened dynamic library libcuda.so.1\n",
            "2021-06-08 09:27:21.890628: I tensorflow/stream_executor/cuda/cuda_gpu_executor.cc:937] successful NUMA node read from SysFS had negative value (-1), but there must be at least one NUMA node, so returning NUMA node zero\n",
            "2021-06-08 09:27:21.891214: I tensorflow/core/common_runtime/gpu/gpu_device.cc:1733] Found device 0 with properties: \n",
            "pciBusID: 0000:00:04.0 name: Tesla T4 computeCapability: 7.5\n",
            "coreClock: 1.59GHz coreCount: 40 deviceMemorySize: 14.75GiB deviceMemoryBandwidth: 298.08GiB/s\n",
            "2021-06-08 09:27:21.891257: I tensorflow/stream_executor/platform/default/dso_loader.cc:53] Successfully opened dynamic library libcudart.so.11.0\n",
            "2021-06-08 09:27:21.893719: I tensorflow/stream_executor/platform/default/dso_loader.cc:53] Successfully opened dynamic library libcublas.so.11\n",
            "2021-06-08 09:27:21.893793: I tensorflow/stream_executor/platform/default/dso_loader.cc:53] Successfully opened dynamic library libcublasLt.so.11\n",
            "2021-06-08 09:27:21.895350: I tensorflow/stream_executor/platform/default/dso_loader.cc:53] Successfully opened dynamic library libcufft.so.10\n",
            "2021-06-08 09:27:21.895822: I tensorflow/stream_executor/platform/default/dso_loader.cc:53] Successfully opened dynamic library libcurand.so.10\n",
            "2021-06-08 09:27:21.897615: I tensorflow/stream_executor/platform/default/dso_loader.cc:53] Successfully opened dynamic library libcusolver.so.10\n",
            "2021-06-08 09:27:21.898304: I tensorflow/stream_executor/platform/default/dso_loader.cc:53] Successfully opened dynamic library libcusparse.so.11\n",
            "2021-06-08 09:27:21.898473: I tensorflow/stream_executor/platform/default/dso_loader.cc:53] Successfully opened dynamic library libcudnn.so.8\n",
            "2021-06-08 09:27:21.898575: I tensorflow/stream_executor/cuda/cuda_gpu_executor.cc:937] successful NUMA node read from SysFS had negative value (-1), but there must be at least one NUMA node, so returning NUMA node zero\n",
            "2021-06-08 09:27:21.899340: I tensorflow/stream_executor/cuda/cuda_gpu_executor.cc:937] successful NUMA node read from SysFS had negative value (-1), but there must be at least one NUMA node, so returning NUMA node zero\n",
            "2021-06-08 09:27:21.899884: I tensorflow/core/common_runtime/gpu/gpu_device.cc:1871] Adding visible gpu devices: 0\n",
            "2021-06-08 09:27:21.900378: I tensorflow/stream_executor/cuda/cuda_gpu_executor.cc:937] successful NUMA node read from SysFS had negative value (-1), but there must be at least one NUMA node, so returning NUMA node zero\n",
            "2021-06-08 09:27:21.900922: I tensorflow/core/common_runtime/gpu/gpu_device.cc:1733] Found device 0 with properties: \n",
            "pciBusID: 0000:00:04.0 name: Tesla T4 computeCapability: 7.5\n",
            "coreClock: 1.59GHz coreCount: 40 deviceMemorySize: 14.75GiB deviceMemoryBandwidth: 298.08GiB/s\n",
            "2021-06-08 09:27:21.901001: I tensorflow/stream_executor/cuda/cuda_gpu_executor.cc:937] successful NUMA node read from SysFS had negative value (-1), but there must be at least one NUMA node, so returning NUMA node zero\n",
            "2021-06-08 09:27:21.901544: I tensorflow/stream_executor/cuda/cuda_gpu_executor.cc:937] successful NUMA node read from SysFS had negative value (-1), but there must be at least one NUMA node, so returning NUMA node zero\n",
            "2021-06-08 09:27:21.902047: I tensorflow/core/common_runtime/gpu/gpu_device.cc:1871] Adding visible gpu devices: 0\n",
            "2021-06-08 09:27:21.902097: I tensorflow/stream_executor/platform/default/dso_loader.cc:53] Successfully opened dynamic library libcudart.so.11.0\n",
            "2021-06-08 09:27:22.489057: I tensorflow/core/common_runtime/gpu/gpu_device.cc:1258] Device interconnect StreamExecutor with strength 1 edge matrix:\n",
            "2021-06-08 09:27:22.489112: I tensorflow/core/common_runtime/gpu/gpu_device.cc:1264]      0 \n",
            "2021-06-08 09:27:22.489127: I tensorflow/core/common_runtime/gpu/gpu_device.cc:1277] 0:   N \n",
            "2021-06-08 09:27:22.489304: I tensorflow/stream_executor/cuda/cuda_gpu_executor.cc:937] successful NUMA node read from SysFS had negative value (-1), but there must be at least one NUMA node, so returning NUMA node zero\n",
            "2021-06-08 09:27:22.489917: I tensorflow/stream_executor/cuda/cuda_gpu_executor.cc:937] successful NUMA node read from SysFS had negative value (-1), but there must be at least one NUMA node, so returning NUMA node zero\n",
            "2021-06-08 09:27:22.490468: I tensorflow/stream_executor/cuda/cuda_gpu_executor.cc:937] successful NUMA node read from SysFS had negative value (-1), but there must be at least one NUMA node, so returning NUMA node zero\n",
            "2021-06-08 09:27:22.490973: W tensorflow/core/common_runtime/gpu/gpu_bfc_allocator.cc:39] Overriding allow_growth setting because the TF_FORCE_GPU_ALLOW_GROWTH environment variable is set. Original config value was 0.\n",
            "2021-06-08 09:27:22.491021: I tensorflow/core/common_runtime/gpu/gpu_device.cc:1418] Created TensorFlow device (/job:localhost/replica:0/task:0/device:GPU:0 with 13837 MB memory) -> physical GPU (device: 0, name: Tesla T4, pci bus id: 0000:00:04.0, compute capability: 7.5)\n",
            "2021-06-08 09:27:22.715957: I tensorflow/core/profiler/lib/profiler_session.cc:126] Profiler session initializing.\n",
            "2021-06-08 09:27:22.716004: I tensorflow/core/profiler/lib/profiler_session.cc:141] Profiler session started.\n",
            "2021-06-08 09:27:22.716043: I tensorflow/core/profiler/internal/gpu/cupti_tracer.cc:1611] Profiler found 1 GPUs\n",
            "2021-06-08 09:27:22.716916: I tensorflow/stream_executor/platform/default/dso_loader.cc:53] Successfully opened dynamic library libcupti.so.11.0\n",
            "2021-06-08 09:27:22.852617: I tensorflow/core/profiler/lib/profiler_session.cc:159] Profiler session tear down.\n",
            "2021-06-08 09:27:22.852807: I tensorflow/core/profiler/internal/gpu/cupti_tracer.cc:1743] CUPTI activity buffer flushed\n",
            "2021-06-08 09:27:23.027106: I tensorflow/compiler/mlir/mlir_graph_optimization_pass.cc:176] None of the MLIR Optimization Passes are enabled (registered 2)\n",
            "2021-06-08 09:27:23.027493: I tensorflow/core/platform/profile_utils/cpu_utils.cc:114] CPU Frequency: 2199995000 Hz\n",
            "Epoch 1/70\n",
            "2021-06-08 09:27:25.249519: I tensorflow/stream_executor/platform/default/dso_loader.cc:53] Successfully opened dynamic library libcudnn.so.8\n",
            "2021-06-08 09:27:25.707069: I tensorflow/stream_executor/cuda/cuda_dnn.cc:359] Loaded cuDNN version 8004\n",
            "2021-06-08 09:27:26.559201: I tensorflow/stream_executor/platform/default/dso_loader.cc:53] Successfully opened dynamic library libcublas.so.11\n",
            "2021-06-08 09:27:27.029066: I tensorflow/stream_executor/platform/default/dso_loader.cc:53] Successfully opened dynamic library libcublasLt.so.11\n",
            " 1/48 [..............................] - ETA: 4:59 - loss: 0.6110 - accuracy: 0.65622021-06-08 09:27:29.407926: I tensorflow/core/profiler/lib/profiler_session.cc:126] Profiler session initializing.\n",
            "2021-06-08 09:27:29.407968: I tensorflow/core/profiler/lib/profiler_session.cc:141] Profiler session started.\n",
            " 2/48 [>.............................] - ETA: 32s - loss: 0.3457 - accuracy: 0.8203 2021-06-08 09:27:30.124823: I tensorflow/core/profiler/lib/profiler_session.cc:66] Profiler session collecting data.\n",
            "2021-06-08 09:27:30.125509: I tensorflow/core/profiler/internal/gpu/cupti_tracer.cc:1743] CUPTI activity buffer flushed\n",
            "2021-06-08 09:27:30.292730: I tensorflow/core/profiler/internal/gpu/cupti_collector.cc:673]  GpuTracer has collected 1000 callback api events and 997 activity events. \n",
            "2021-06-08 09:27:30.307002: I tensorflow/core/profiler/lib/profiler_session.cc:159] Profiler session tear down.\n",
            "2021-06-08 09:27:30.349913: I tensorflow/core/profiler/rpc/client/save_profile.cc:137] Creating directory: ./logs/train/plugins/profile/2021_06_08_09_27_30\n",
            "2021-06-08 09:27:30.368411: I tensorflow/core/profiler/rpc/client/save_profile.cc:143] Dumped gzipped tool data for trace.json.gz to ./logs/train/plugins/profile/2021_06_08_09_27_30/fa9296ddb95f.trace.json.gz\n",
            "2021-06-08 09:27:30.403384: I tensorflow/core/profiler/rpc/client/save_profile.cc:137] Creating directory: ./logs/train/plugins/profile/2021_06_08_09_27_30\n",
            "2021-06-08 09:27:30.415228: I tensorflow/core/profiler/rpc/client/save_profile.cc:143] Dumped gzipped tool data for memory_profile.json.gz to ./logs/train/plugins/profile/2021_06_08_09_27_30/fa9296ddb95f.memory_profile.json.gz\n",
            "2021-06-08 09:27:30.432296: I tensorflow/core/profiler/rpc/client/capture_profile.cc:251] Creating directory: ./logs/train/plugins/profile/2021_06_08_09_27_30Dumped tool data for xplane.pb to ./logs/train/plugins/profile/2021_06_08_09_27_30/fa9296ddb95f.xplane.pb\n",
            "Dumped tool data for overview_page.pb to ./logs/train/plugins/profile/2021_06_08_09_27_30/fa9296ddb95f.overview_page.pb\n",
            "Dumped tool data for input_pipeline.pb to ./logs/train/plugins/profile/2021_06_08_09_27_30/fa9296ddb95f.input_pipeline.pb\n",
            "Dumped tool data for tensorflow_stats.pb to ./logs/train/plugins/profile/2021_06_08_09_27_30/fa9296ddb95f.tensorflow_stats.pb\n",
            "Dumped tool data for kernel_stats.pb to ./logs/train/plugins/profile/2021_06_08_09_27_30/fa9296ddb95f.kernel_stats.pb\n",
            "\n",
            "48/48 [==============================] - 21s 310ms/step - loss: 0.2287 - accuracy: 0.9507 - val_loss: 4.0392 - val_accuracy: 0.9677\n",
            "/usr/local/lib/python3.7/dist-packages/tensorflow/python/keras/utils/generic_utils.py:497: CustomMaskWarning: Custom mask layers require a config and must override get_config. When loading, the custom mask layer must be passed to the custom_objects argument.\n",
            "  category=CustomMaskWarning)\n",
            "Epoch 2/70\n",
            "48/48 [==============================] - 12s 252ms/step - loss: 0.1662 - accuracy: 0.9599 - val_loss: 0.1615 - val_accuracy: 0.9516\n",
            "Epoch 3/70\n",
            "48/48 [==============================] - 12s 255ms/step - loss: 0.1402 - accuracy: 0.9589 - val_loss: 0.1804 - val_accuracy: 0.9677\n",
            "Epoch 4/70\n",
            "48/48 [==============================] - 12s 257ms/step - loss: 0.1171 - accuracy: 0.9615 - val_loss: 0.1296 - val_accuracy: 0.9677\n",
            "Epoch 5/70\n",
            "48/48 [==============================] - 13s 260ms/step - loss: 0.0851 - accuracy: 0.9730 - val_loss: 0.0950 - val_accuracy: 0.9677\n",
            "Epoch 6/70\n",
            "48/48 [==============================] - 13s 262ms/step - loss: 0.0620 - accuracy: 0.9773 - val_loss: 0.1685 - val_accuracy: 0.9677\n",
            "Epoch 7/70\n",
            "48/48 [==============================] - 13s 263ms/step - loss: 0.0278 - accuracy: 0.9908 - val_loss: 0.1375 - val_accuracy: 0.9677\n",
            "Epoch 8/70\n",
            "48/48 [==============================] - 13s 264ms/step - loss: 0.0089 - accuracy: 0.9987 - val_loss: 0.1488 - val_accuracy: 0.9677\n",
            "Epoch 9/70\n",
            "48/48 [==============================] - 13s 266ms/step - loss: 0.0022 - accuracy: 1.0000 - val_loss: 0.1839 - val_accuracy: 0.9677\n",
            "Epoch 10/70\n",
            "48/48 [==============================] - 13s 267ms/step - loss: 7.1055e-04 - accuracy: 1.0000 - val_loss: 0.1773 - val_accuracy: 0.9677\n",
            "Epoch 11/70\n",
            "48/48 [==============================] - 13s 267ms/step - loss: 4.2480e-04 - accuracy: 1.0000 - val_loss: 0.1870 - val_accuracy: 0.9677\n",
            "Epoch 12/70\n",
            "48/48 [==============================] - 13s 266ms/step - loss: 2.8131e-04 - accuracy: 1.0000 - val_loss: 0.1829 - val_accuracy: 0.9677\n",
            "Epoch 13/70\n",
            "48/48 [==============================] - 13s 265ms/step - loss: 2.3606e-04 - accuracy: 1.0000 - val_loss: 0.1732 - val_accuracy: 0.9677\n",
            "Epoch 14/70\n",
            "48/48 [==============================] - 13s 266ms/step - loss: 2.3712e-04 - accuracy: 1.0000 - val_loss: 0.1680 - val_accuracy: 0.9677\n"
          ],
          "name": "stdout"
        }
      ]
    },
    {
      "cell_type": "markdown",
      "metadata": {
        "id": "j7JGzQ5i59Z9"
      },
      "source": [
        "continue training from next epoch (my_train_2.py)"
      ]
    },
    {
      "cell_type": "code",
      "metadata": {
        "colab": {
          "base_uri": "https://localhost:8080/"
        },
        "id": "WC_BinNXF5q_",
        "outputId": "ec03c7f9-b840-4a13-b9cf-3ec52ee89f71"
      },
      "source": [
        "!python my_train_2.py ./1_class_data/X_train.npy ./1_class_data/y_train.npy --previous ./models_1_class/final_model_53.hdf5 --epoch 65"
      ],
      "execution_count": null,
      "outputs": [
        {
          "output_type": "stream",
          "text": [
            "2021-06-08 09:48:10.524531: I tensorflow/stream_executor/platform/default/dso_loader.cc:53] Successfully opened dynamic library libcudart.so.11.0\n",
            "<class 'numpy.ndarray'>\n",
            "<class 'numpy.ndarray'>\n",
            "1\n",
            "2021-06-08 09:48:13.019913: I tensorflow/stream_executor/platform/default/dso_loader.cc:53] Successfully opened dynamic library libcuda.so.1\n",
            "2021-06-08 09:48:13.052418: I tensorflow/stream_executor/cuda/cuda_gpu_executor.cc:937] successful NUMA node read from SysFS had negative value (-1), but there must be at least one NUMA node, so returning NUMA node zero\n",
            "2021-06-08 09:48:13.053022: I tensorflow/core/common_runtime/gpu/gpu_device.cc:1733] Found device 0 with properties: \n",
            "pciBusID: 0000:00:04.0 name: Tesla T4 computeCapability: 7.5\n",
            "coreClock: 1.59GHz coreCount: 40 deviceMemorySize: 14.75GiB deviceMemoryBandwidth: 298.08GiB/s\n",
            "2021-06-08 09:48:13.053074: I tensorflow/stream_executor/platform/default/dso_loader.cc:53] Successfully opened dynamic library libcudart.so.11.0\n",
            "2021-06-08 09:48:13.055790: I tensorflow/stream_executor/platform/default/dso_loader.cc:53] Successfully opened dynamic library libcublas.so.11\n",
            "2021-06-08 09:48:13.055868: I tensorflow/stream_executor/platform/default/dso_loader.cc:53] Successfully opened dynamic library libcublasLt.so.11\n",
            "2021-06-08 09:48:13.057510: I tensorflow/stream_executor/platform/default/dso_loader.cc:53] Successfully opened dynamic library libcufft.so.10\n",
            "2021-06-08 09:48:13.057879: I tensorflow/stream_executor/platform/default/dso_loader.cc:53] Successfully opened dynamic library libcurand.so.10\n",
            "2021-06-08 09:48:13.059720: I tensorflow/stream_executor/platform/default/dso_loader.cc:53] Successfully opened dynamic library libcusolver.so.10\n",
            "2021-06-08 09:48:13.060323: I tensorflow/stream_executor/platform/default/dso_loader.cc:53] Successfully opened dynamic library libcusparse.so.11\n",
            "2021-06-08 09:48:13.060500: I tensorflow/stream_executor/platform/default/dso_loader.cc:53] Successfully opened dynamic library libcudnn.so.8\n",
            "2021-06-08 09:48:13.060600: I tensorflow/stream_executor/cuda/cuda_gpu_executor.cc:937] successful NUMA node read from SysFS had negative value (-1), but there must be at least one NUMA node, so returning NUMA node zero\n",
            "2021-06-08 09:48:13.061196: I tensorflow/stream_executor/cuda/cuda_gpu_executor.cc:937] successful NUMA node read from SysFS had negative value (-1), but there must be at least one NUMA node, so returning NUMA node zero\n",
            "2021-06-08 09:48:13.061727: I tensorflow/core/common_runtime/gpu/gpu_device.cc:1871] Adding visible gpu devices: 0\n",
            "2021-06-08 09:48:13.062253: I tensorflow/stream_executor/cuda/cuda_gpu_executor.cc:937] successful NUMA node read from SysFS had negative value (-1), but there must be at least one NUMA node, so returning NUMA node zero\n",
            "2021-06-08 09:48:13.062806: I tensorflow/core/common_runtime/gpu/gpu_device.cc:1733] Found device 0 with properties: \n",
            "pciBusID: 0000:00:04.0 name: Tesla T4 computeCapability: 7.5\n",
            "coreClock: 1.59GHz coreCount: 40 deviceMemorySize: 14.75GiB deviceMemoryBandwidth: 298.08GiB/s\n",
            "2021-06-08 09:48:13.062885: I tensorflow/stream_executor/cuda/cuda_gpu_executor.cc:937] successful NUMA node read from SysFS had negative value (-1), but there must be at least one NUMA node, so returning NUMA node zero\n",
            "2021-06-08 09:48:13.063420: I tensorflow/stream_executor/cuda/cuda_gpu_executor.cc:937] successful NUMA node read from SysFS had negative value (-1), but there must be at least one NUMA node, so returning NUMA node zero\n",
            "2021-06-08 09:48:13.063939: I tensorflow/core/common_runtime/gpu/gpu_device.cc:1871] Adding visible gpu devices: 0\n",
            "2021-06-08 09:48:13.063995: I tensorflow/stream_executor/platform/default/dso_loader.cc:53] Successfully opened dynamic library libcudart.so.11.0\n",
            "2021-06-08 09:48:13.658594: I tensorflow/core/common_runtime/gpu/gpu_device.cc:1258] Device interconnect StreamExecutor with strength 1 edge matrix:\n",
            "2021-06-08 09:48:13.658659: I tensorflow/core/common_runtime/gpu/gpu_device.cc:1264]      0 \n",
            "2021-06-08 09:48:13.658678: I tensorflow/core/common_runtime/gpu/gpu_device.cc:1277] 0:   N \n",
            "2021-06-08 09:48:13.658849: I tensorflow/stream_executor/cuda/cuda_gpu_executor.cc:937] successful NUMA node read from SysFS had negative value (-1), but there must be at least one NUMA node, so returning NUMA node zero\n",
            "2021-06-08 09:48:13.659439: I tensorflow/stream_executor/cuda/cuda_gpu_executor.cc:937] successful NUMA node read from SysFS had negative value (-1), but there must be at least one NUMA node, so returning NUMA node zero\n",
            "2021-06-08 09:48:13.660008: I tensorflow/stream_executor/cuda/cuda_gpu_executor.cc:937] successful NUMA node read from SysFS had negative value (-1), but there must be at least one NUMA node, so returning NUMA node zero\n",
            "2021-06-08 09:48:13.660510: W tensorflow/core/common_runtime/gpu/gpu_bfc_allocator.cc:39] Overriding allow_growth setting because the TF_FORCE_GPU_ALLOW_GROWTH environment variable is set. Original config value was 0.\n",
            "2021-06-08 09:48:13.660554: I tensorflow/core/common_runtime/gpu/gpu_device.cc:1418] Created TensorFlow device (/job:localhost/replica:0/task:0/device:GPU:0 with 13837 MB memory) -> physical GPU (device: 0, name: Tesla T4, pci bus id: 0000:00:04.0, compute capability: 7.5)\n",
            "2021-06-08 09:48:14.646412: I tensorflow/core/profiler/lib/profiler_session.cc:126] Profiler session initializing.\n",
            "2021-06-08 09:48:14.646462: I tensorflow/core/profiler/lib/profiler_session.cc:141] Profiler session started.\n",
            "2021-06-08 09:48:14.646505: I tensorflow/core/profiler/internal/gpu/cupti_tracer.cc:1611] Profiler found 1 GPUs\n",
            "2021-06-08 09:48:14.647344: I tensorflow/stream_executor/platform/default/dso_loader.cc:53] Successfully opened dynamic library libcupti.so.11.0\n",
            "2021-06-08 09:48:14.775551: I tensorflow/core/profiler/lib/profiler_session.cc:159] Profiler session tear down.\n",
            "2021-06-08 09:48:14.775726: I tensorflow/core/profiler/internal/gpu/cupti_tracer.cc:1743] CUPTI activity buffer flushed\n",
            "2021-06-08 09:48:15.034181: I tensorflow/compiler/mlir/mlir_graph_optimization_pass.cc:176] None of the MLIR Optimization Passes are enabled (registered 2)\n",
            "2021-06-08 09:48:15.034544: I tensorflow/core/platform/profile_utils/cpu_utils.cc:114] CPU Frequency: 2199995000 Hz\n",
            "Epoch 66/70\n",
            "2021-06-08 09:48:17.222109: I tensorflow/stream_executor/platform/default/dso_loader.cc:53] Successfully opened dynamic library libcudnn.so.8\n",
            "2021-06-08 09:48:17.688743: I tensorflow/stream_executor/cuda/cuda_dnn.cc:359] Loaded cuDNN version 8004\n",
            "2021-06-08 09:48:18.550510: I tensorflow/stream_executor/platform/default/dso_loader.cc:53] Successfully opened dynamic library libcublas.so.11\n",
            "2021-06-08 09:48:19.028192: I tensorflow/stream_executor/platform/default/dso_loader.cc:53] Successfully opened dynamic library libcublasLt.so.11\n",
            " 1/48 [..............................] - ETA: 5:04 - loss: 1.0185 - accuracy: 0.29692021-06-08 09:48:21.530288: I tensorflow/core/profiler/lib/profiler_session.cc:126] Profiler session initializing.\n",
            "2021-06-08 09:48:21.530333: I tensorflow/core/profiler/lib/profiler_session.cc:141] Profiler session started.\n",
            " 2/48 [>.............................] - ETA: 33s - loss: 0.5878 - accuracy: 0.6328 2021-06-08 09:48:22.270798: I tensorflow/core/profiler/lib/profiler_session.cc:66] Profiler session collecting data.\n",
            "2021-06-08 09:48:22.271522: I tensorflow/core/profiler/internal/gpu/cupti_tracer.cc:1743] CUPTI activity buffer flushed\n",
            "2021-06-08 09:48:22.440238: I tensorflow/core/profiler/internal/gpu/cupti_collector.cc:673]  GpuTracer has collected 1000 callback api events and 997 activity events. \n",
            "2021-06-08 09:48:22.453516: I tensorflow/core/profiler/lib/profiler_session.cc:159] Profiler session tear down.\n",
            "2021-06-08 09:48:22.477232: I tensorflow/core/profiler/rpc/client/save_profile.cc:137] Creating directory: ./logs/train/plugins/profile/2021_06_08_09_48_22\n",
            "2021-06-08 09:48:22.511111: I tensorflow/core/profiler/rpc/client/save_profile.cc:143] Dumped gzipped tool data for trace.json.gz to ./logs/train/plugins/profile/2021_06_08_09_48_22/fa9296ddb95f.trace.json.gz\n",
            "2021-06-08 09:48:22.546030: I tensorflow/core/profiler/rpc/client/save_profile.cc:137] Creating directory: ./logs/train/plugins/profile/2021_06_08_09_48_22\n",
            "2021-06-08 09:48:22.554380: I tensorflow/core/profiler/rpc/client/save_profile.cc:143] Dumped gzipped tool data for memory_profile.json.gz to ./logs/train/plugins/profile/2021_06_08_09_48_22/fa9296ddb95f.memory_profile.json.gz\n",
            "2021-06-08 09:48:22.577265: I tensorflow/core/profiler/rpc/client/capture_profile.cc:251] Creating directory: ./logs/train/plugins/profile/2021_06_08_09_48_22Dumped tool data for xplane.pb to ./logs/train/plugins/profile/2021_06_08_09_48_22/fa9296ddb95f.xplane.pb\n",
            "Dumped tool data for overview_page.pb to ./logs/train/plugins/profile/2021_06_08_09_48_22/fa9296ddb95f.overview_page.pb\n",
            "Dumped tool data for input_pipeline.pb to ./logs/train/plugins/profile/2021_06_08_09_48_22/fa9296ddb95f.input_pipeline.pb\n",
            "Dumped tool data for tensorflow_stats.pb to ./logs/train/plugins/profile/2021_06_08_09_48_22/fa9296ddb95f.tensorflow_stats.pb\n",
            "Dumped tool data for kernel_stats.pb to ./logs/train/plugins/profile/2021_06_08_09_48_22/fa9296ddb95f.kernel_stats.pb\n",
            "\n",
            "48/48 [==============================] - 22s 326ms/step - loss: 0.2553 - accuracy: 0.9447 - val_loss: 34.3812 - val_accuracy: 0.0323\n",
            "/usr/local/lib/python3.7/dist-packages/tensorflow/python/keras/utils/generic_utils.py:497: CustomMaskWarning: Custom mask layers require a config and must override get_config. When loading, the custom mask layer must be passed to the custom_objects argument.\n",
            "  category=CustomMaskWarning)\n",
            "Epoch 67/70\n",
            "48/48 [==============================] - 13s 269ms/step - loss: 0.1596 - accuracy: 0.9602 - val_loss: 0.1050 - val_accuracy: 0.9677\n",
            "Epoch 68/70\n",
            "48/48 [==============================] - 13s 267ms/step - loss: 0.1347 - accuracy: 0.9625 - val_loss: 0.1077 - val_accuracy: 0.9677\n",
            "Epoch 69/70\n",
            "48/48 [==============================] - 13s 266ms/step - loss: 0.1095 - accuracy: 0.9641 - val_loss: 0.0829 - val_accuracy: 0.9677\n",
            "Epoch 70/70\n",
            "48/48 [==============================] - 13s 263ms/step - loss: 0.0764 - accuracy: 0.9740 - val_loss: 0.0948 - val_accuracy: 0.9677\n"
          ],
          "name": "stdout"
        }
      ]
    },
    {
      "cell_type": "markdown",
      "metadata": {
        "id": "ZYrj9IaEq9iD"
      },
      "source": [
        "# Predict"
      ]
    },
    {
      "cell_type": "code",
      "metadata": {
        "colab": {
          "base_uri": "https://localhost:8080/"
        },
        "id": "eas5l7XDq9R9",
        "outputId": "9a988950-d4bb-467a-8288-7d8c23e4a9be"
      },
      "source": [
        "! python my_predict.py ./models_1_class/final_model_65.hdf5 ./1_class_data/X_test.npy ./1_class_data/y_test.npy --output_file ./predictions/1_class_prediction_70.npy"
      ],
      "execution_count": null,
      "outputs": [
        {
          "output_type": "stream",
          "text": [
            "2021-06-08 09:51:21.621436: I tensorflow/stream_executor/platform/default/dso_loader.cc:53] Successfully opened dynamic library libcudart.so.11.0\n",
            "./models_1_class/final_model_65.hdf5\n",
            "2021-06-08 09:51:29.452907: I tensorflow/stream_executor/platform/default/dso_loader.cc:53] Successfully opened dynamic library libcuda.so.1\n",
            "2021-06-08 09:51:29.485266: I tensorflow/stream_executor/cuda/cuda_gpu_executor.cc:937] successful NUMA node read from SysFS had negative value (-1), but there must be at least one NUMA node, so returning NUMA node zero\n",
            "2021-06-08 09:51:29.485854: I tensorflow/core/common_runtime/gpu/gpu_device.cc:1733] Found device 0 with properties: \n",
            "pciBusID: 0000:00:04.0 name: Tesla T4 computeCapability: 7.5\n",
            "coreClock: 1.59GHz coreCount: 40 deviceMemorySize: 14.75GiB deviceMemoryBandwidth: 298.08GiB/s\n",
            "2021-06-08 09:51:29.485904: I tensorflow/stream_executor/platform/default/dso_loader.cc:53] Successfully opened dynamic library libcudart.so.11.0\n",
            "2021-06-08 09:51:29.490825: I tensorflow/stream_executor/platform/default/dso_loader.cc:53] Successfully opened dynamic library libcublas.so.11\n",
            "2021-06-08 09:51:29.490902: I tensorflow/stream_executor/platform/default/dso_loader.cc:53] Successfully opened dynamic library libcublasLt.so.11\n",
            "2021-06-08 09:51:29.492560: I tensorflow/stream_executor/platform/default/dso_loader.cc:53] Successfully opened dynamic library libcufft.so.10\n",
            "2021-06-08 09:51:29.492920: I tensorflow/stream_executor/platform/default/dso_loader.cc:53] Successfully opened dynamic library libcurand.so.10\n",
            "2021-06-08 09:51:29.496703: I tensorflow/stream_executor/platform/default/dso_loader.cc:53] Successfully opened dynamic library libcusolver.so.10\n",
            "2021-06-08 09:51:29.497281: I tensorflow/stream_executor/platform/default/dso_loader.cc:53] Successfully opened dynamic library libcusparse.so.11\n",
            "2021-06-08 09:51:29.497455: I tensorflow/stream_executor/platform/default/dso_loader.cc:53] Successfully opened dynamic library libcudnn.so.8\n",
            "2021-06-08 09:51:29.497558: I tensorflow/stream_executor/cuda/cuda_gpu_executor.cc:937] successful NUMA node read from SysFS had negative value (-1), but there must be at least one NUMA node, so returning NUMA node zero\n",
            "2021-06-08 09:51:29.498156: I tensorflow/stream_executor/cuda/cuda_gpu_executor.cc:937] successful NUMA node read from SysFS had negative value (-1), but there must be at least one NUMA node, so returning NUMA node zero\n",
            "2021-06-08 09:51:29.498679: I tensorflow/core/common_runtime/gpu/gpu_device.cc:1871] Adding visible gpu devices: 0\n",
            "2021-06-08 09:51:29.499284: I tensorflow/stream_executor/cuda/cuda_gpu_executor.cc:937] successful NUMA node read from SysFS had negative value (-1), but there must be at least one NUMA node, so returning NUMA node zero\n",
            "2021-06-08 09:51:29.499835: I tensorflow/core/common_runtime/gpu/gpu_device.cc:1733] Found device 0 with properties: \n",
            "pciBusID: 0000:00:04.0 name: Tesla T4 computeCapability: 7.5\n",
            "coreClock: 1.59GHz coreCount: 40 deviceMemorySize: 14.75GiB deviceMemoryBandwidth: 298.08GiB/s\n",
            "2021-06-08 09:51:29.499912: I tensorflow/stream_executor/cuda/cuda_gpu_executor.cc:937] successful NUMA node read from SysFS had negative value (-1), but there must be at least one NUMA node, so returning NUMA node zero\n",
            "2021-06-08 09:51:29.500456: I tensorflow/stream_executor/cuda/cuda_gpu_executor.cc:937] successful NUMA node read from SysFS had negative value (-1), but there must be at least one NUMA node, so returning NUMA node zero\n",
            "2021-06-08 09:51:29.501005: I tensorflow/core/common_runtime/gpu/gpu_device.cc:1871] Adding visible gpu devices: 0\n",
            "2021-06-08 09:51:29.501057: I tensorflow/stream_executor/platform/default/dso_loader.cc:53] Successfully opened dynamic library libcudart.so.11.0\n",
            "2021-06-08 09:51:30.101836: I tensorflow/core/common_runtime/gpu/gpu_device.cc:1258] Device interconnect StreamExecutor with strength 1 edge matrix:\n",
            "2021-06-08 09:51:30.101889: I tensorflow/core/common_runtime/gpu/gpu_device.cc:1264]      0 \n",
            "2021-06-08 09:51:30.101905: I tensorflow/core/common_runtime/gpu/gpu_device.cc:1277] 0:   N \n",
            "2021-06-08 09:51:30.102075: I tensorflow/stream_executor/cuda/cuda_gpu_executor.cc:937] successful NUMA node read from SysFS had negative value (-1), but there must be at least one NUMA node, so returning NUMA node zero\n",
            "2021-06-08 09:51:30.102683: I tensorflow/stream_executor/cuda/cuda_gpu_executor.cc:937] successful NUMA node read from SysFS had negative value (-1), but there must be at least one NUMA node, so returning NUMA node zero\n",
            "2021-06-08 09:51:30.103232: I tensorflow/stream_executor/cuda/cuda_gpu_executor.cc:937] successful NUMA node read from SysFS had negative value (-1), but there must be at least one NUMA node, so returning NUMA node zero\n",
            "2021-06-08 09:51:30.103738: W tensorflow/core/common_runtime/gpu/gpu_bfc_allocator.cc:39] Overriding allow_growth setting because the TF_FORCE_GPU_ALLOW_GROWTH environment variable is set. Original config value was 0.\n",
            "2021-06-08 09:51:30.103786: I tensorflow/core/common_runtime/gpu/gpu_device.cc:1418] Created TensorFlow device (/job:localhost/replica:0/task:0/device:GPU:0 with 13837 MB memory) -> physical GPU (device: 0, name: Tesla T4, pci bus id: 0000:00:04.0, compute capability: 7.5)\n",
            "2021-06-08 09:51:30.654663: I tensorflow/compiler/mlir/mlir_graph_optimization_pass.cc:176] None of the MLIR Optimization Passes are enabled (registered 2)\n",
            "2021-06-08 09:51:30.655008: I tensorflow/core/platform/profile_utils/cpu_utils.cc:114] CPU Frequency: 2199995000 Hz\n",
            "2021-06-08 09:51:31.000854: I tensorflow/stream_executor/platform/default/dso_loader.cc:53] Successfully opened dynamic library libcudnn.so.8\n",
            "2021-06-08 09:51:31.499168: I tensorflow/stream_executor/cuda/cuda_dnn.cc:359] Loaded cuDNN version 8004\n",
            "2021-06-08 09:51:32.326182: I tensorflow/stream_executor/platform/default/dso_loader.cc:53] Successfully opened dynamic library libcublas.so.11\n",
            "2021-06-08 09:51:32.803194: I tensorflow/stream_executor/platform/default/dso_loader.cc:53] Successfully opened dynamic library libcublasLt.so.11\n",
            "65/65 [==============================] - 5s 33ms/step\n",
            "Output predictions saved\n"
          ],
          "name": "stdout"
        }
      ]
    },
    {
      "cell_type": "markdown",
      "metadata": {
        "id": "5NHLHkY5a1_5"
      },
      "source": [
        "#Evaluate"
      ]
    },
    {
      "cell_type": "code",
      "metadata": {
        "id": "K6LH0WYoXccd"
      },
      "source": [
        "# load data\n",
        "X_train = np.load('./1_class_data/X_train.npy')\n",
        "y_train = np.load('./1_class_data/y_train.npy')\n",
        "X_test = np.load('./1_class_data/X_test.npy')\n",
        "y_test = np.load('./1_class_data/y_test.npy')"
      ],
      "execution_count": 64,
      "outputs": []
    },
    {
      "cell_type": "code",
      "metadata": {
        "id": "nTVHxJWdIzgk"
      },
      "source": [
        "def get_optimal_precision_recall(y_true, y_score):\n",
        "      \"\"\"Find precision and recall values that maximize f1 score.\"\"\"\n",
        "      n = np.shape(y_true)[1]\n",
        "      opt_precision = []\n",
        "      opt_recall = []\n",
        "      opt_threshold = []\n",
        "      for k in range(n):\n",
        "          # Get precision-recall curve\n",
        "          precision, recall, threshold = precision_recall_curve(y_true[:, k], y_score[:, k])\n",
        "          # Compute f1 score for each point (use nan_to_num to avoid nans messing up the results)\n",
        "          f1_score = np.nan_to_num(2 * precision * recall / (precision + recall))\n",
        "          # Select threshold that maximize f1 score\n",
        "          index = np.argmax(f1_score)\n",
        "          opt_precision.append(precision[index])\n",
        "          opt_recall.append(recall[index])\n",
        "          t = threshold[index-1] if index != 0 else threshold[0]-1e-10\n",
        "          opt_threshold.append(t)\n",
        "      return np.array(opt_precision), np.array(opt_recall), np.array(opt_threshold)"
      ],
      "execution_count": 71,
      "outputs": []
    },
    {
      "cell_type": "code",
      "metadata": {
        "id": "GUMlxIVmym4b"
      },
      "source": [
        "def make_y_pred(pred, t):\n",
        "  \n",
        "  npredictions = np.zeros(shape=pred.shape)\n",
        "  print(npredictions.shape)\n",
        "  \n",
        "  for i in range(0, pred.shape[0]):\n",
        "    for j in range(0, pred.shape[1]):\n",
        "      if pred[i][j] >= t:\n",
        "        npredictions[i][j] = 1\n",
        "  \n",
        "  return npredictions"
      ],
      "execution_count": 72,
      "outputs": []
    },
    {
      "cell_type": "code",
      "metadata": {
        "id": "mCSq4PzJxHAB"
      },
      "source": [
        "def evaluate_model(y_pred, y_test):\n",
        "  accuracy = accuracy_score(y_test, y_pred)\n",
        "  precision = precision_score(y_test, y_pred, zero_division=0)\n",
        "  recall = recall_score(y_test, y_pred)\n",
        "  f1 = f1_score(y_test, y_pred)\n",
        "\n",
        "  return accuracy, precision, recall, f1"
      ],
      "execution_count": 73,
      "outputs": []
    },
    {
      "cell_type": "code",
      "metadata": {
        "colab": {
          "base_uri": "https://localhost:8080/"
        },
        "id": "lKF5UDQex2PF",
        "outputId": "fdce5e5f-9fa6-454f-c2c3-35d77b1f9723"
      },
      "source": [
        "model_pred = np.load('./predictions/1_class_prediction_70.npy')\n",
        "opt_precision, opt_recall, opt_threshold = get_optimal_precision_recall(y_test, model_pred)\n",
        "print(opt_precision, opt_recall, opt_threshold)"
      ],
      "execution_count": 75,
      "outputs": [
        {
          "output_type": "stream",
          "text": [
            "[0.11206897] [0.17808219] [0.12532048]\n"
          ],
          "name": "stdout"
        },
        {
          "output_type": "stream",
          "text": [
            "/usr/local/lib/python3.7/dist-packages/ipykernel_launcher.py:11: RuntimeWarning: invalid value encountered in true_divide\n",
            "  # This is added back by InteractiveShellApp.init_path()\n"
          ],
          "name": "stderr"
        }
      ]
    },
    {
      "cell_type": "code",
      "metadata": {
        "colab": {
          "base_uri": "https://localhost:8080/"
        },
        "id": "xzaPHnQ0I9ly",
        "outputId": "b4306689-6753-4899-8699-6416a4a972e7"
      },
      "source": [
        "y_pred = make_y_pred(model_pred, opt_threshold)\n",
        "accuracy, precision, recall, f1 = evaluate_model(y_pred, y_test)"
      ],
      "execution_count": 76,
      "outputs": [
        {
          "output_type": "stream",
          "text": [
            "(2068, 1)\n"
          ],
          "name": "stdout"
        }
      ]
    },
    {
      "cell_type": "code",
      "metadata": {
        "colab": {
          "base_uri": "https://localhost:8080/"
        },
        "id": "nsV5TX6LyLgt",
        "outputId": "2ced66ae-6f22-47e9-a6ab-79a551e84947"
      },
      "source": [
        "print(\"accuracy: \", accuracy)\n",
        "print(\"precision: \", precision)\n",
        "print(\"recall: \", recall)\n",
        "print(\"f1 score: \", f1)"
      ],
      "execution_count": 77,
      "outputs": [
        {
          "output_type": "stream",
          "text": [
            "accuracy:  0.9206963249516441\n",
            "precision:  0.1111111111111111\n",
            "recall:  0.1780821917808219\n",
            "f1 score:  0.1368421052631579\n"
          ],
          "name": "stdout"
        }
      ]
    },
    {
      "cell_type": "markdown",
      "metadata": {
        "id": "PTb7UTMnBOPG"
      },
      "source": [
        "#Plots"
      ]
    },
    {
      "cell_type": "code",
      "metadata": {
        "colab": {
          "base_uri": "https://localhost:8080/"
        },
        "id": "ZgFuBXSq9eBJ",
        "outputId": "2f608ec2-eaea-458e-be86-2da3ed9f0a0d"
      },
      "source": [
        "c = confusion_matrix(y_test, y_pred)\n",
        "\n",
        "print(\"tn        fp\")\n",
        "print(\"____________\")\n",
        "print(c) \n",
        "print(\"____________\")\n",
        "print(\"fn        tp\")"
      ],
      "execution_count": 85,
      "outputs": [
        {
          "output_type": "stream",
          "text": [
            "tn        fp\n",
            "____________\n",
            "[[1891  104]\n",
            " [  60   13]]\n",
            "____________\n",
            "fn        tp\n"
          ],
          "name": "stdout"
        }
      ]
    },
    {
      "cell_type": "code",
      "metadata": {
        "colab": {
          "base_uri": "https://localhost:8080/",
          "height": 312
        },
        "id": "i0Sr4jcj6DcN",
        "outputId": "088761e9-0613-4b19-ff81-bef1885aae56"
      },
      "source": [
        "precision, recall, threshold = precision_recall_curve(y_test, model_pred)\n",
        "plt.figure()\n",
        "plt.title(\"Precision-recall curve\")\n",
        "plt.xlabel(\"Recall\")\n",
        "plt.ylabel(\"Precision\")\n",
        "plt.plot(recall, precision)\n"
      ],
      "execution_count": null,
      "outputs": [
        {
          "output_type": "execute_result",
          "data": {
            "text/plain": [
              "[<matplotlib.lines.Line2D at 0x7fd99a3bcb90>]"
            ]
          },
          "metadata": {
            "tags": []
          },
          "execution_count": 32
        },
        {
          "output_type": "display_data",
          "data": {
            "image/png": "[encoded data removed]",
            "text/plain": [
              "<Figure size 432x288 with 1 Axes>"
            ]
          },
          "metadata": {
            "tags": [],
            "needs_background": "light"
          }
        }
      ]
    },
    {
      "cell_type": "code",
      "metadata": {
        "colab": {
          "base_uri": "https://localhost:8080/",
          "height": 295
        },
        "id": "WDxaYMLGAa_y",
        "outputId": "93d1f779-7656-455e-f981-228041753fce"
      },
      "source": [
        "fpr, tpr, threshold = roc_curve(y_test, y_pred)\n",
        "roc_auc = auc(fpr, tpr)\n",
        "\n",
        "plt.title('Receiver Operating Characteristic')\n",
        "plt.plot(fpr, tpr, 'b', label = 'AUC = %0.2f' % roc_auc)\n",
        "plt.legend(loc = 'lower right')\n",
        "plt.plot([0, 1], [0, 1],'r--')\n",
        "plt.xlim([0, 1])\n",
        "plt.ylim([0, 1])\n",
        "plt.ylabel('True Positive Rate')\n",
        "plt.xlabel('False Positive Rate')\n",
        "plt.show()"
      ],
      "execution_count": null,
      "outputs": [
        {
          "output_type": "display_data",
          "data": {
            "image/png": "[encoded data removed]",
            "text/plain": [
              "<Figure size 432x288 with 1 Axes>"
            ]
          },
          "metadata": {
            "tags": [],
            "needs_background": "light"
          }
        }
      ]
    },
    {
      "cell_type": "markdown",
      "metadata": {
        "id": "GsglTRkAWnsG"
      },
      "source": [
        "Cases of atrial fibrillation in train dataset, test dataset and both"
      ]
    },
    {
      "cell_type": "code",
      "metadata": {
        "colab": {
          "base_uri": "https://localhost:8080/"
        },
        "id": "Lj357Pb6Jmd2",
        "outputId": "c0053447-74ef-48f8-899f-a93ab74d491b"
      },
      "source": [
        "a1 = y_train.sum()\n",
        "a2 = y_test.sum()\n",
        "\n",
        "print(a1,\"/3102 recordings + \",a2,\"/2068 recordings = \", a1+a2)"
      ],
      "execution_count": 67,
      "outputs": [
        {
          "output_type": "stream",
          "text": [
            "125 /3102 recordings +  73 /2068 recordings =  198\n"
          ],
          "name": "stdout"
        }
      ]
    }
  ]
}
